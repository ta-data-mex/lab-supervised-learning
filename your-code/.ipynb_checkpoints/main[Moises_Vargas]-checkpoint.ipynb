{
 "cells": [
  {
   "cell_type": "markdown",
   "metadata": {},
   "source": [
    "# Before your start:\n",
    "- Read the README.md file\n",
    "- Comment as much as you can and use the resources in the README.md file\n",
    "- Happy learning!"
   ]
  },
  {
   "cell_type": "code",
   "execution_count": 1,
   "metadata": {},
   "outputs": [],
   "source": [
    "# Import your libraries:\n",
    "\n",
    "%matplotlib inline\n",
    "\n",
    "import numpy as np\n",
    "import pandas as pd\n",
    "import seaborn as sns\n",
    "import matplotlib.pyplot as plt \n",
    "import seaborn as sns\n"
   ]
  },
  {
   "cell_type": "markdown",
   "metadata": {},
   "source": [
    "In this lab, we will explore a dataset that describes websites with different features and labels them either benign or malicious . We will use supervised learning algorithms to figure out what feature patterns malicious websites are likely to have and use our model to predict malicious websites.\n",
    "\n",
    "# Challenge 1 - Explore The Dataset\n",
    "\n",
    "Let's start by exploring the dataset. First load the data file:"
   ]
  },
  {
   "cell_type": "code",
   "execution_count": 2,
   "metadata": {},
   "outputs": [],
   "source": [
    "websites = pd.read_csv('../website.csv')"
   ]
  },
  {
   "cell_type": "markdown",
   "metadata": {},
   "source": [
    "#### Explore the data from an bird's-eye view.\n",
    "\n",
    "You should already been very familiar with the procedures now so we won't provide the instructions step by step. Reflect on what you did in the previous labs and explore the dataset.\n",
    "\n",
    "Things you'll be looking for:\n",
    "\n",
    "* What the dataset looks like?\n",
    "* What are the data types?\n",
    "* Which columns contain the features of the websites?\n",
    "* Which column contains the feature we will predict? What is the code standing for benign vs malicious websites?\n",
    "* Do we need to transform any of the columns from categorical to ordinal values? If so what are these columns?\n",
    "\n",
    "Feel free to add additional cells for your explorations. Make sure to comment what you find out."
   ]
  },
  {
   "cell_type": "code",
   "execution_count": 3,
   "metadata": {},
   "outputs": [],
   "source": [
    "# Your code here\n",
    "websites.isnull().mean()*100\n",
    "websites_clean = websites.drop('CONTENT_LENGTH', axis=1).dropna()"
   ]
  },
  {
   "cell_type": "code",
   "execution_count": 4,
   "metadata": {
    "scrolled": true
   },
   "outputs": [],
   "source": [
    "web_num = websites_clean.select_dtypes(include = 'number')"
   ]
  },
  {
   "cell_type": "code",
   "execution_count": 5,
   "metadata": {},
   "outputs": [],
   "source": [
    "web_cat = websites_clean.select_dtypes(include = 'object')"
   ]
  },
  {
   "cell_type": "code",
   "execution_count": 6,
   "metadata": {},
   "outputs": [
    {
     "data": {
      "text/plain": [
       "0    1563\n",
       "1     216\n",
       "Name: Type, dtype: int64"
      ]
     },
     "execution_count": 6,
     "metadata": {},
     "output_type": "execute_result"
    }
   ],
   "source": [
    "web_num['Type'].value_counts()"
   ]
  },
  {
   "cell_type": "code",
   "execution_count": 7,
   "metadata": {
    "scrolled": true
   },
   "outputs": [
    {
     "data": {
      "text/html": [
       "<div>\n",
       "<style scoped>\n",
       "    .dataframe tbody tr th:only-of-type {\n",
       "        vertical-align: middle;\n",
       "    }\n",
       "\n",
       "    .dataframe tbody tr th {\n",
       "        vertical-align: top;\n",
       "    }\n",
       "\n",
       "    .dataframe thead th {\n",
       "        text-align: right;\n",
       "    }\n",
       "</style>\n",
       "<table border=\"1\" class=\"dataframe\">\n",
       "  <thead>\n",
       "    <tr style=\"text-align: right;\">\n",
       "      <th></th>\n",
       "      <th>URL_LENGTH</th>\n",
       "      <th>NUMBER_SPECIAL_CHARACTERS</th>\n",
       "      <th>TCP_CONVERSATION_EXCHANGE</th>\n",
       "      <th>DIST_REMOTE_TCP_PORT</th>\n",
       "      <th>REMOTE_IPS</th>\n",
       "      <th>APP_BYTES</th>\n",
       "      <th>SOURCE_APP_PACKETS</th>\n",
       "      <th>REMOTE_APP_PACKETS</th>\n",
       "      <th>SOURCE_APP_BYTES</th>\n",
       "      <th>REMOTE_APP_BYTES</th>\n",
       "      <th>APP_PACKETS</th>\n",
       "      <th>DNS_QUERY_TIMES</th>\n",
       "      <th>Type</th>\n",
       "    </tr>\n",
       "  </thead>\n",
       "  <tbody>\n",
       "    <tr>\n",
       "      <th>URL_LENGTH</th>\n",
       "      <td>1.000000</td>\n",
       "      <td>0.918098</td>\n",
       "      <td>-0.038159</td>\n",
       "      <td>-0.039696</td>\n",
       "      <td>-0.046174</td>\n",
       "      <td>-0.026416</td>\n",
       "      <td>-0.041967</td>\n",
       "      <td>-0.033481</td>\n",
       "      <td>-0.014628</td>\n",
       "      <td>-0.026652</td>\n",
       "      <td>-0.041967</td>\n",
       "      <td>-0.068453</td>\n",
       "      <td>0.162641</td>\n",
       "    </tr>\n",
       "    <tr>\n",
       "      <th>NUMBER_SPECIAL_CHARACTERS</th>\n",
       "      <td>0.918098</td>\n",
       "      <td>1.000000</td>\n",
       "      <td>-0.037323</td>\n",
       "      <td>-0.042554</td>\n",
       "      <td>-0.046961</td>\n",
       "      <td>-0.023896</td>\n",
       "      <td>-0.039939</td>\n",
       "      <td>-0.030467</td>\n",
       "      <td>-0.014276</td>\n",
       "      <td>-0.024079</td>\n",
       "      <td>-0.039939</td>\n",
       "      <td>-0.050067</td>\n",
       "      <td>0.281150</td>\n",
       "    </tr>\n",
       "    <tr>\n",
       "      <th>TCP_CONVERSATION_EXCHANGE</th>\n",
       "      <td>-0.038159</td>\n",
       "      <td>-0.037323</td>\n",
       "      <td>1.000000</td>\n",
       "      <td>0.555180</td>\n",
       "      <td>0.331057</td>\n",
       "      <td>0.457324</td>\n",
       "      <td>0.997798</td>\n",
       "      <td>0.990871</td>\n",
       "      <td>0.865585</td>\n",
       "      <td>0.458705</td>\n",
       "      <td>0.997798</td>\n",
       "      <td>0.349877</td>\n",
       "      <td>-0.040276</td>\n",
       "    </tr>\n",
       "    <tr>\n",
       "      <th>DIST_REMOTE_TCP_PORT</th>\n",
       "      <td>-0.039696</td>\n",
       "      <td>-0.042554</td>\n",
       "      <td>0.555180</td>\n",
       "      <td>1.000000</td>\n",
       "      <td>0.210198</td>\n",
       "      <td>0.780243</td>\n",
       "      <td>0.558601</td>\n",
       "      <td>0.591173</td>\n",
       "      <td>0.313333</td>\n",
       "      <td>0.781216</td>\n",
       "      <td>0.558601</td>\n",
       "      <td>0.259919</td>\n",
       "      <td>-0.082999</td>\n",
       "    </tr>\n",
       "    <tr>\n",
       "      <th>REMOTE_IPS</th>\n",
       "      <td>-0.046174</td>\n",
       "      <td>-0.046961</td>\n",
       "      <td>0.331057</td>\n",
       "      <td>0.210198</td>\n",
       "      <td>1.000000</td>\n",
       "      <td>0.023124</td>\n",
       "      <td>0.361087</td>\n",
       "      <td>0.304712</td>\n",
       "      <td>0.171660</td>\n",
       "      <td>0.025322</td>\n",
       "      <td>0.361087</td>\n",
       "      <td>0.548413</td>\n",
       "      <td>-0.078801</td>\n",
       "    </tr>\n",
       "    <tr>\n",
       "      <th>APP_BYTES</th>\n",
       "      <td>-0.026416</td>\n",
       "      <td>-0.023896</td>\n",
       "      <td>0.457324</td>\n",
       "      <td>0.780243</td>\n",
       "      <td>0.023124</td>\n",
       "      <td>1.000000</td>\n",
       "      <td>0.445828</td>\n",
       "      <td>0.469010</td>\n",
       "      <td>0.074456</td>\n",
       "      <td>0.999992</td>\n",
       "      <td>0.445828</td>\n",
       "      <td>0.012208</td>\n",
       "      <td>-0.011281</td>\n",
       "    </tr>\n",
       "    <tr>\n",
       "      <th>SOURCE_APP_PACKETS</th>\n",
       "      <td>-0.041967</td>\n",
       "      <td>-0.039939</td>\n",
       "      <td>0.997798</td>\n",
       "      <td>0.558601</td>\n",
       "      <td>0.361087</td>\n",
       "      <td>0.445828</td>\n",
       "      <td>1.000000</td>\n",
       "      <td>0.989300</td>\n",
       "      <td>0.857496</td>\n",
       "      <td>0.447453</td>\n",
       "      <td>1.000000</td>\n",
       "      <td>0.410876</td>\n",
       "      <td>-0.034509</td>\n",
       "    </tr>\n",
       "    <tr>\n",
       "      <th>REMOTE_APP_PACKETS</th>\n",
       "      <td>-0.033481</td>\n",
       "      <td>-0.030467</td>\n",
       "      <td>0.990871</td>\n",
       "      <td>0.591173</td>\n",
       "      <td>0.304712</td>\n",
       "      <td>0.469010</td>\n",
       "      <td>0.989300</td>\n",
       "      <td>1.000000</td>\n",
       "      <td>0.880550</td>\n",
       "      <td>0.470412</td>\n",
       "      <td>0.989300</td>\n",
       "      <td>0.355648</td>\n",
       "      <td>-0.033029</td>\n",
       "    </tr>\n",
       "    <tr>\n",
       "      <th>SOURCE_APP_BYTES</th>\n",
       "      <td>-0.014628</td>\n",
       "      <td>-0.014276</td>\n",
       "      <td>0.865585</td>\n",
       "      <td>0.313333</td>\n",
       "      <td>0.171660</td>\n",
       "      <td>0.074456</td>\n",
       "      <td>0.857496</td>\n",
       "      <td>0.880550</td>\n",
       "      <td>1.000000</td>\n",
       "      <td>0.075319</td>\n",
       "      <td>0.857496</td>\n",
       "      <td>0.215227</td>\n",
       "      <td>-0.043949</td>\n",
       "    </tr>\n",
       "    <tr>\n",
       "      <th>REMOTE_APP_BYTES</th>\n",
       "      <td>-0.026652</td>\n",
       "      <td>-0.024079</td>\n",
       "      <td>0.458705</td>\n",
       "      <td>0.781216</td>\n",
       "      <td>0.025322</td>\n",
       "      <td>0.999992</td>\n",
       "      <td>0.447453</td>\n",
       "      <td>0.470412</td>\n",
       "      <td>0.075319</td>\n",
       "      <td>1.000000</td>\n",
       "      <td>0.447453</td>\n",
       "      <td>0.016201</td>\n",
       "      <td>-0.011024</td>\n",
       "    </tr>\n",
       "    <tr>\n",
       "      <th>APP_PACKETS</th>\n",
       "      <td>-0.041967</td>\n",
       "      <td>-0.039939</td>\n",
       "      <td>0.997798</td>\n",
       "      <td>0.558601</td>\n",
       "      <td>0.361087</td>\n",
       "      <td>0.445828</td>\n",
       "      <td>1.000000</td>\n",
       "      <td>0.989300</td>\n",
       "      <td>0.857496</td>\n",
       "      <td>0.447453</td>\n",
       "      <td>1.000000</td>\n",
       "      <td>0.410876</td>\n",
       "      <td>-0.034509</td>\n",
       "    </tr>\n",
       "    <tr>\n",
       "      <th>DNS_QUERY_TIMES</th>\n",
       "      <td>-0.068453</td>\n",
       "      <td>-0.050067</td>\n",
       "      <td>0.349877</td>\n",
       "      <td>0.259919</td>\n",
       "      <td>0.548413</td>\n",
       "      <td>0.012208</td>\n",
       "      <td>0.410876</td>\n",
       "      <td>0.355648</td>\n",
       "      <td>0.215227</td>\n",
       "      <td>0.016201</td>\n",
       "      <td>0.410876</td>\n",
       "      <td>1.000000</td>\n",
       "      <td>0.068606</td>\n",
       "    </tr>\n",
       "    <tr>\n",
       "      <th>Type</th>\n",
       "      <td>0.162641</td>\n",
       "      <td>0.281150</td>\n",
       "      <td>-0.040276</td>\n",
       "      <td>-0.082999</td>\n",
       "      <td>-0.078801</td>\n",
       "      <td>-0.011281</td>\n",
       "      <td>-0.034509</td>\n",
       "      <td>-0.033029</td>\n",
       "      <td>-0.043949</td>\n",
       "      <td>-0.011024</td>\n",
       "      <td>-0.034509</td>\n",
       "      <td>0.068606</td>\n",
       "      <td>1.000000</td>\n",
       "    </tr>\n",
       "  </tbody>\n",
       "</table>\n",
       "</div>"
      ],
      "text/plain": [
       "                           URL_LENGTH  NUMBER_SPECIAL_CHARACTERS  \\\n",
       "URL_LENGTH                   1.000000                   0.918098   \n",
       "NUMBER_SPECIAL_CHARACTERS    0.918098                   1.000000   \n",
       "TCP_CONVERSATION_EXCHANGE   -0.038159                  -0.037323   \n",
       "DIST_REMOTE_TCP_PORT        -0.039696                  -0.042554   \n",
       "REMOTE_IPS                  -0.046174                  -0.046961   \n",
       "APP_BYTES                   -0.026416                  -0.023896   \n",
       "SOURCE_APP_PACKETS          -0.041967                  -0.039939   \n",
       "REMOTE_APP_PACKETS          -0.033481                  -0.030467   \n",
       "SOURCE_APP_BYTES            -0.014628                  -0.014276   \n",
       "REMOTE_APP_BYTES            -0.026652                  -0.024079   \n",
       "APP_PACKETS                 -0.041967                  -0.039939   \n",
       "DNS_QUERY_TIMES             -0.068453                  -0.050067   \n",
       "Type                         0.162641                   0.281150   \n",
       "\n",
       "                           TCP_CONVERSATION_EXCHANGE  DIST_REMOTE_TCP_PORT  \\\n",
       "URL_LENGTH                                 -0.038159             -0.039696   \n",
       "NUMBER_SPECIAL_CHARACTERS                  -0.037323             -0.042554   \n",
       "TCP_CONVERSATION_EXCHANGE                   1.000000              0.555180   \n",
       "DIST_REMOTE_TCP_PORT                        0.555180              1.000000   \n",
       "REMOTE_IPS                                  0.331057              0.210198   \n",
       "APP_BYTES                                   0.457324              0.780243   \n",
       "SOURCE_APP_PACKETS                          0.997798              0.558601   \n",
       "REMOTE_APP_PACKETS                          0.990871              0.591173   \n",
       "SOURCE_APP_BYTES                            0.865585              0.313333   \n",
       "REMOTE_APP_BYTES                            0.458705              0.781216   \n",
       "APP_PACKETS                                 0.997798              0.558601   \n",
       "DNS_QUERY_TIMES                             0.349877              0.259919   \n",
       "Type                                       -0.040276             -0.082999   \n",
       "\n",
       "                           REMOTE_IPS  APP_BYTES  SOURCE_APP_PACKETS  \\\n",
       "URL_LENGTH                  -0.046174  -0.026416           -0.041967   \n",
       "NUMBER_SPECIAL_CHARACTERS   -0.046961  -0.023896           -0.039939   \n",
       "TCP_CONVERSATION_EXCHANGE    0.331057   0.457324            0.997798   \n",
       "DIST_REMOTE_TCP_PORT         0.210198   0.780243            0.558601   \n",
       "REMOTE_IPS                   1.000000   0.023124            0.361087   \n",
       "APP_BYTES                    0.023124   1.000000            0.445828   \n",
       "SOURCE_APP_PACKETS           0.361087   0.445828            1.000000   \n",
       "REMOTE_APP_PACKETS           0.304712   0.469010            0.989300   \n",
       "SOURCE_APP_BYTES             0.171660   0.074456            0.857496   \n",
       "REMOTE_APP_BYTES             0.025322   0.999992            0.447453   \n",
       "APP_PACKETS                  0.361087   0.445828            1.000000   \n",
       "DNS_QUERY_TIMES              0.548413   0.012208            0.410876   \n",
       "Type                        -0.078801  -0.011281           -0.034509   \n",
       "\n",
       "                           REMOTE_APP_PACKETS  SOURCE_APP_BYTES  \\\n",
       "URL_LENGTH                          -0.033481         -0.014628   \n",
       "NUMBER_SPECIAL_CHARACTERS           -0.030467         -0.014276   \n",
       "TCP_CONVERSATION_EXCHANGE            0.990871          0.865585   \n",
       "DIST_REMOTE_TCP_PORT                 0.591173          0.313333   \n",
       "REMOTE_IPS                           0.304712          0.171660   \n",
       "APP_BYTES                            0.469010          0.074456   \n",
       "SOURCE_APP_PACKETS                   0.989300          0.857496   \n",
       "REMOTE_APP_PACKETS                   1.000000          0.880550   \n",
       "SOURCE_APP_BYTES                     0.880550          1.000000   \n",
       "REMOTE_APP_BYTES                     0.470412          0.075319   \n",
       "APP_PACKETS                          0.989300          0.857496   \n",
       "DNS_QUERY_TIMES                      0.355648          0.215227   \n",
       "Type                                -0.033029         -0.043949   \n",
       "\n",
       "                           REMOTE_APP_BYTES  APP_PACKETS  DNS_QUERY_TIMES  \\\n",
       "URL_LENGTH                        -0.026652    -0.041967        -0.068453   \n",
       "NUMBER_SPECIAL_CHARACTERS         -0.024079    -0.039939        -0.050067   \n",
       "TCP_CONVERSATION_EXCHANGE          0.458705     0.997798         0.349877   \n",
       "DIST_REMOTE_TCP_PORT               0.781216     0.558601         0.259919   \n",
       "REMOTE_IPS                         0.025322     0.361087         0.548413   \n",
       "APP_BYTES                          0.999992     0.445828         0.012208   \n",
       "SOURCE_APP_PACKETS                 0.447453     1.000000         0.410876   \n",
       "REMOTE_APP_PACKETS                 0.470412     0.989300         0.355648   \n",
       "SOURCE_APP_BYTES                   0.075319     0.857496         0.215227   \n",
       "REMOTE_APP_BYTES                   1.000000     0.447453         0.016201   \n",
       "APP_PACKETS                        0.447453     1.000000         0.410876   \n",
       "DNS_QUERY_TIMES                    0.016201     0.410876         1.000000   \n",
       "Type                              -0.011024    -0.034509         0.068606   \n",
       "\n",
       "                               Type  \n",
       "URL_LENGTH                 0.162641  \n",
       "NUMBER_SPECIAL_CHARACTERS  0.281150  \n",
       "TCP_CONVERSATION_EXCHANGE -0.040276  \n",
       "DIST_REMOTE_TCP_PORT      -0.082999  \n",
       "REMOTE_IPS                -0.078801  \n",
       "APP_BYTES                 -0.011281  \n",
       "SOURCE_APP_PACKETS        -0.034509  \n",
       "REMOTE_APP_PACKETS        -0.033029  \n",
       "SOURCE_APP_BYTES          -0.043949  \n",
       "REMOTE_APP_BYTES          -0.011024  \n",
       "APP_PACKETS               -0.034509  \n",
       "DNS_QUERY_TIMES            0.068606  \n",
       "Type                       1.000000  "
      ]
     },
     "execution_count": 7,
     "metadata": {},
     "output_type": "execute_result"
    }
   ],
   "source": [
    "web_num.corr()"
   ]
  },
  {
   "cell_type": "code",
   "execution_count": 8,
   "metadata": {},
   "outputs": [
    {
     "data": {
      "text/html": [
       "<div>\n",
       "<style scoped>\n",
       "    .dataframe tbody tr th:only-of-type {\n",
       "        vertical-align: middle;\n",
       "    }\n",
       "\n",
       "    .dataframe tbody tr th {\n",
       "        vertical-align: top;\n",
       "    }\n",
       "\n",
       "    .dataframe thead th {\n",
       "        text-align: right;\n",
       "    }\n",
       "</style>\n",
       "<table border=\"1\" class=\"dataframe\">\n",
       "  <thead>\n",
       "    <tr style=\"text-align: right;\">\n",
       "      <th></th>\n",
       "      <th>NUMBER_SPECIAL_CHARACTERS</th>\n",
       "      <th>DIST_REMOTE_TCP_PORT</th>\n",
       "      <th>REMOTE_IPS</th>\n",
       "      <th>APP_BYTES</th>\n",
       "      <th>SOURCE_APP_BYTES</th>\n",
       "      <th>APP_PACKETS</th>\n",
       "      <th>DNS_QUERY_TIMES</th>\n",
       "      <th>Type</th>\n",
       "    </tr>\n",
       "  </thead>\n",
       "  <tbody>\n",
       "    <tr>\n",
       "      <th>NUMBER_SPECIAL_CHARACTERS</th>\n",
       "      <td>1.000000</td>\n",
       "      <td>-0.042554</td>\n",
       "      <td>-0.046961</td>\n",
       "      <td>-0.023896</td>\n",
       "      <td>-0.014276</td>\n",
       "      <td>-0.039939</td>\n",
       "      <td>-0.050067</td>\n",
       "      <td>0.281150</td>\n",
       "    </tr>\n",
       "    <tr>\n",
       "      <th>DIST_REMOTE_TCP_PORT</th>\n",
       "      <td>-0.042554</td>\n",
       "      <td>1.000000</td>\n",
       "      <td>0.210198</td>\n",
       "      <td>0.780243</td>\n",
       "      <td>0.313333</td>\n",
       "      <td>0.558601</td>\n",
       "      <td>0.259919</td>\n",
       "      <td>-0.082999</td>\n",
       "    </tr>\n",
       "    <tr>\n",
       "      <th>REMOTE_IPS</th>\n",
       "      <td>-0.046961</td>\n",
       "      <td>0.210198</td>\n",
       "      <td>1.000000</td>\n",
       "      <td>0.023124</td>\n",
       "      <td>0.171660</td>\n",
       "      <td>0.361087</td>\n",
       "      <td>0.548413</td>\n",
       "      <td>-0.078801</td>\n",
       "    </tr>\n",
       "    <tr>\n",
       "      <th>APP_BYTES</th>\n",
       "      <td>-0.023896</td>\n",
       "      <td>0.780243</td>\n",
       "      <td>0.023124</td>\n",
       "      <td>1.000000</td>\n",
       "      <td>0.074456</td>\n",
       "      <td>0.445828</td>\n",
       "      <td>0.012208</td>\n",
       "      <td>-0.011281</td>\n",
       "    </tr>\n",
       "    <tr>\n",
       "      <th>SOURCE_APP_BYTES</th>\n",
       "      <td>-0.014276</td>\n",
       "      <td>0.313333</td>\n",
       "      <td>0.171660</td>\n",
       "      <td>0.074456</td>\n",
       "      <td>1.000000</td>\n",
       "      <td>0.857496</td>\n",
       "      <td>0.215227</td>\n",
       "      <td>-0.043949</td>\n",
       "    </tr>\n",
       "    <tr>\n",
       "      <th>APP_PACKETS</th>\n",
       "      <td>-0.039939</td>\n",
       "      <td>0.558601</td>\n",
       "      <td>0.361087</td>\n",
       "      <td>0.445828</td>\n",
       "      <td>0.857496</td>\n",
       "      <td>1.000000</td>\n",
       "      <td>0.410876</td>\n",
       "      <td>-0.034509</td>\n",
       "    </tr>\n",
       "    <tr>\n",
       "      <th>DNS_QUERY_TIMES</th>\n",
       "      <td>-0.050067</td>\n",
       "      <td>0.259919</td>\n",
       "      <td>0.548413</td>\n",
       "      <td>0.012208</td>\n",
       "      <td>0.215227</td>\n",
       "      <td>0.410876</td>\n",
       "      <td>1.000000</td>\n",
       "      <td>0.068606</td>\n",
       "    </tr>\n",
       "    <tr>\n",
       "      <th>Type</th>\n",
       "      <td>0.281150</td>\n",
       "      <td>-0.082999</td>\n",
       "      <td>-0.078801</td>\n",
       "      <td>-0.011281</td>\n",
       "      <td>-0.043949</td>\n",
       "      <td>-0.034509</td>\n",
       "      <td>0.068606</td>\n",
       "      <td>1.000000</td>\n",
       "    </tr>\n",
       "  </tbody>\n",
       "</table>\n",
       "</div>"
      ],
      "text/plain": [
       "                           NUMBER_SPECIAL_CHARACTERS  DIST_REMOTE_TCP_PORT  \\\n",
       "NUMBER_SPECIAL_CHARACTERS                   1.000000             -0.042554   \n",
       "DIST_REMOTE_TCP_PORT                       -0.042554              1.000000   \n",
       "REMOTE_IPS                                 -0.046961              0.210198   \n",
       "APP_BYTES                                  -0.023896              0.780243   \n",
       "SOURCE_APP_BYTES                           -0.014276              0.313333   \n",
       "APP_PACKETS                                -0.039939              0.558601   \n",
       "DNS_QUERY_TIMES                            -0.050067              0.259919   \n",
       "Type                                        0.281150             -0.082999   \n",
       "\n",
       "                           REMOTE_IPS  APP_BYTES  SOURCE_APP_BYTES  \\\n",
       "NUMBER_SPECIAL_CHARACTERS   -0.046961  -0.023896         -0.014276   \n",
       "DIST_REMOTE_TCP_PORT         0.210198   0.780243          0.313333   \n",
       "REMOTE_IPS                   1.000000   0.023124          0.171660   \n",
       "APP_BYTES                    0.023124   1.000000          0.074456   \n",
       "SOURCE_APP_BYTES             0.171660   0.074456          1.000000   \n",
       "APP_PACKETS                  0.361087   0.445828          0.857496   \n",
       "DNS_QUERY_TIMES              0.548413   0.012208          0.215227   \n",
       "Type                        -0.078801  -0.011281         -0.043949   \n",
       "\n",
       "                           APP_PACKETS  DNS_QUERY_TIMES      Type  \n",
       "NUMBER_SPECIAL_CHARACTERS    -0.039939        -0.050067  0.281150  \n",
       "DIST_REMOTE_TCP_PORT          0.558601         0.259919 -0.082999  \n",
       "REMOTE_IPS                    0.361087         0.548413 -0.078801  \n",
       "APP_BYTES                     0.445828         0.012208 -0.011281  \n",
       "SOURCE_APP_BYTES              0.857496         0.215227 -0.043949  \n",
       "APP_PACKETS                   1.000000         0.410876 -0.034509  \n",
       "DNS_QUERY_TIMES               0.410876         1.000000  0.068606  \n",
       "Type                         -0.034509         0.068606  1.000000  "
      ]
     },
     "execution_count": 8,
     "metadata": {},
     "output_type": "execute_result"
    }
   ],
   "source": [
    "# Your comment here\n",
    "correlations = web_num.drop(['SOURCE_APP_PACKETS', 'REMOTE_APP_PACKETS', 'TCP_CONVERSATION_EXCHANGE', 'REMOTE_APP_BYTES', 'URL_LENGTH' ], axis=1)\n",
    "correlations.corr()\n"
   ]
  },
  {
   "cell_type": "markdown",
   "metadata": {},
   "source": [
    "#### Next, evaluate if the columns in this dataset are strongly correlated.\n",
    "\n",
    "In the Mushroom supervised learning lab we did recently, we mentioned we are concerned if our dataset has strongly correlated columns because if it is the case we need to choose certain ML algorithms instead of others. We need to evaluate this for our dataset now.\n",
    "\n",
    "Luckily, most of the columns in this dataset are ordinal which makes things a lot easier for us. In the next cells below, evaluate the level of collinearity of the data.\n",
    "\n",
    "We provide some general directions for you to consult in order to complete this step:\n",
    "\n",
    "1. You will create a correlation matrix using the numeric columns in the dataset.\n",
    "\n",
    "1. Create a heatmap using `seaborn` to visualize which columns have high collinearity.\n",
    "\n",
    "1. Comment on which columns you might need to remove due to high collinearity."
   ]
  },
  {
   "cell_type": "code",
   "execution_count": 9,
   "metadata": {},
   "outputs": [
    {
     "data": {
      "text/html": [
       "<div>\n",
       "<style scoped>\n",
       "    .dataframe tbody tr th:only-of-type {\n",
       "        vertical-align: middle;\n",
       "    }\n",
       "\n",
       "    .dataframe tbody tr th {\n",
       "        vertical-align: top;\n",
       "    }\n",
       "\n",
       "    .dataframe thead th {\n",
       "        text-align: right;\n",
       "    }\n",
       "</style>\n",
       "<table border=\"1\" class=\"dataframe\">\n",
       "  <thead>\n",
       "    <tr style=\"text-align: right;\">\n",
       "      <th></th>\n",
       "      <th>NUMBER_SPECIAL_CHARACTERS</th>\n",
       "      <th>DIST_REMOTE_TCP_PORT</th>\n",
       "      <th>REMOTE_IPS</th>\n",
       "      <th>APP_BYTES</th>\n",
       "      <th>SOURCE_APP_BYTES</th>\n",
       "      <th>APP_PACKETS</th>\n",
       "      <th>DNS_QUERY_TIMES</th>\n",
       "      <th>Type</th>\n",
       "    </tr>\n",
       "  </thead>\n",
       "  <tbody>\n",
       "    <tr>\n",
       "      <th>NUMBER_SPECIAL_CHARACTERS</th>\n",
       "      <td>1.000000</td>\n",
       "      <td>-0.042554</td>\n",
       "      <td>-0.046961</td>\n",
       "      <td>-0.023896</td>\n",
       "      <td>-0.014276</td>\n",
       "      <td>-0.039939</td>\n",
       "      <td>-0.050067</td>\n",
       "      <td>0.281150</td>\n",
       "    </tr>\n",
       "    <tr>\n",
       "      <th>DIST_REMOTE_TCP_PORT</th>\n",
       "      <td>-0.042554</td>\n",
       "      <td>1.000000</td>\n",
       "      <td>0.210198</td>\n",
       "      <td>0.780243</td>\n",
       "      <td>0.313333</td>\n",
       "      <td>0.558601</td>\n",
       "      <td>0.259919</td>\n",
       "      <td>-0.082999</td>\n",
       "    </tr>\n",
       "    <tr>\n",
       "      <th>REMOTE_IPS</th>\n",
       "      <td>-0.046961</td>\n",
       "      <td>0.210198</td>\n",
       "      <td>1.000000</td>\n",
       "      <td>0.023124</td>\n",
       "      <td>0.171660</td>\n",
       "      <td>0.361087</td>\n",
       "      <td>0.548413</td>\n",
       "      <td>-0.078801</td>\n",
       "    </tr>\n",
       "    <tr>\n",
       "      <th>APP_BYTES</th>\n",
       "      <td>-0.023896</td>\n",
       "      <td>0.780243</td>\n",
       "      <td>0.023124</td>\n",
       "      <td>1.000000</td>\n",
       "      <td>0.074456</td>\n",
       "      <td>0.445828</td>\n",
       "      <td>0.012208</td>\n",
       "      <td>-0.011281</td>\n",
       "    </tr>\n",
       "    <tr>\n",
       "      <th>SOURCE_APP_BYTES</th>\n",
       "      <td>-0.014276</td>\n",
       "      <td>0.313333</td>\n",
       "      <td>0.171660</td>\n",
       "      <td>0.074456</td>\n",
       "      <td>1.000000</td>\n",
       "      <td>0.857496</td>\n",
       "      <td>0.215227</td>\n",
       "      <td>-0.043949</td>\n",
       "    </tr>\n",
       "    <tr>\n",
       "      <th>APP_PACKETS</th>\n",
       "      <td>-0.039939</td>\n",
       "      <td>0.558601</td>\n",
       "      <td>0.361087</td>\n",
       "      <td>0.445828</td>\n",
       "      <td>0.857496</td>\n",
       "      <td>1.000000</td>\n",
       "      <td>0.410876</td>\n",
       "      <td>-0.034509</td>\n",
       "    </tr>\n",
       "    <tr>\n",
       "      <th>DNS_QUERY_TIMES</th>\n",
       "      <td>-0.050067</td>\n",
       "      <td>0.259919</td>\n",
       "      <td>0.548413</td>\n",
       "      <td>0.012208</td>\n",
       "      <td>0.215227</td>\n",
       "      <td>0.410876</td>\n",
       "      <td>1.000000</td>\n",
       "      <td>0.068606</td>\n",
       "    </tr>\n",
       "    <tr>\n",
       "      <th>Type</th>\n",
       "      <td>0.281150</td>\n",
       "      <td>-0.082999</td>\n",
       "      <td>-0.078801</td>\n",
       "      <td>-0.011281</td>\n",
       "      <td>-0.043949</td>\n",
       "      <td>-0.034509</td>\n",
       "      <td>0.068606</td>\n",
       "      <td>1.000000</td>\n",
       "    </tr>\n",
       "  </tbody>\n",
       "</table>\n",
       "</div>"
      ],
      "text/plain": [
       "                           NUMBER_SPECIAL_CHARACTERS  DIST_REMOTE_TCP_PORT  \\\n",
       "NUMBER_SPECIAL_CHARACTERS                   1.000000             -0.042554   \n",
       "DIST_REMOTE_TCP_PORT                       -0.042554              1.000000   \n",
       "REMOTE_IPS                                 -0.046961              0.210198   \n",
       "APP_BYTES                                  -0.023896              0.780243   \n",
       "SOURCE_APP_BYTES                           -0.014276              0.313333   \n",
       "APP_PACKETS                                -0.039939              0.558601   \n",
       "DNS_QUERY_TIMES                            -0.050067              0.259919   \n",
       "Type                                        0.281150             -0.082999   \n",
       "\n",
       "                           REMOTE_IPS  APP_BYTES  SOURCE_APP_BYTES  \\\n",
       "NUMBER_SPECIAL_CHARACTERS   -0.046961  -0.023896         -0.014276   \n",
       "DIST_REMOTE_TCP_PORT         0.210198   0.780243          0.313333   \n",
       "REMOTE_IPS                   1.000000   0.023124          0.171660   \n",
       "APP_BYTES                    0.023124   1.000000          0.074456   \n",
       "SOURCE_APP_BYTES             0.171660   0.074456          1.000000   \n",
       "APP_PACKETS                  0.361087   0.445828          0.857496   \n",
       "DNS_QUERY_TIMES              0.548413   0.012208          0.215227   \n",
       "Type                        -0.078801  -0.011281         -0.043949   \n",
       "\n",
       "                           APP_PACKETS  DNS_QUERY_TIMES      Type  \n",
       "NUMBER_SPECIAL_CHARACTERS    -0.039939        -0.050067  0.281150  \n",
       "DIST_REMOTE_TCP_PORT          0.558601         0.259919 -0.082999  \n",
       "REMOTE_IPS                    0.361087         0.548413 -0.078801  \n",
       "APP_BYTES                     0.445828         0.012208 -0.011281  \n",
       "SOURCE_APP_BYTES              0.857496         0.215227 -0.043949  \n",
       "APP_PACKETS                   1.000000         0.410876 -0.034509  \n",
       "DNS_QUERY_TIMES               0.410876         1.000000  0.068606  \n",
       "Type                         -0.034509         0.068606  1.000000  "
      ]
     },
     "execution_count": 9,
     "metadata": {},
     "output_type": "execute_result"
    }
   ],
   "source": [
    "# Your code here\n",
    "correlations = web_num.drop(['SOURCE_APP_PACKETS', 'REMOTE_APP_PACKETS', 'TCP_CONVERSATION_EXCHANGE', 'REMOTE_APP_BYTES', 'URL_LENGTH' ], axis=1)\n",
    "correlations.corr()\n"
   ]
  },
  {
   "cell_type": "code",
   "execution_count": 10,
   "metadata": {},
   "outputs": [],
   "source": [
    "# Your comment here\n",
    "#Despues de dropear 5 columnas, en las cuales se identificaca colinealidad por encima del 0.9"
   ]
  },
  {
   "cell_type": "markdown",
   "metadata": {},
   "source": [
    "# Challenge 2 - Remove Column Collinearity.\n",
    "\n",
    "From the heatmap you created, you should have seen at least 3 columns that can be removed due to high collinearity. Remove these columns from the dataset.\n",
    "\n",
    "Note that you should remove as few columns as you can. You don't have to remove all the columns at once. But instead, try removing one column, then produce the heatmap again to determine if additional columns should be removed. As long as the dataset no longer contains columns that are correlated for over 90%, you can stop. Also, keep in mind when two columns have high collinearity, you only need to remove one of them but not both.\n",
    "\n",
    "In the cells below, remove as few columns as you can to eliminate the high collinearity in the dataset. Make sure to comment on your way so that the instructional team can learn about your thinking process which allows them to give feedback. At the end, print the heatmap again."
   ]
  },
  {
   "cell_type": "code",
   "execution_count": 11,
   "metadata": {},
   "outputs": [
    {
     "data": {
      "image/png": "[encoded data removed]",
      "text/plain": [
       "<Figure size 1800x1080 with 2 Axes>"
      ]
     },
     "metadata": {},
     "output_type": "display_data"
    }
   ],
   "source": [
    "# Your code here\n",
    "corr2 = correlations.corr()\n",
    "sns.set()\n",
    "\n",
    "fig, ax = plt.subplots(figsize=(25, 15))\n",
    "sns.heatmap(round(corr2, 2), annot=True, ax=ax, cmap='coolwarm',\n",
    "            fmt='.2f', linewidths=0.5)\n",
    "fig.subplots_adjust(top=0.93)\n",
    "fig.suptitle('Mapa de Correlaciones');\n"
   ]
  },
  {
   "cell_type": "code",
   "execution_count": 12,
   "metadata": {},
   "outputs": [],
   "source": [
    "# Your comment here\n",
    "#Despues de dropear 5 columnas, en las cuales se identificaca colinealidad por encima del 0.9"
   ]
  },
  {
   "cell_type": "code",
   "execution_count": 13,
   "metadata": {},
   "outputs": [
    {
     "data": {
      "image/png": "[encoded data removed]",
      "text/plain": [
       "<Figure size 1800x1080 with 2 Axes>"
      ]
     },
     "metadata": {},
     "output_type": "display_data"
    }
   ],
   "source": [
    "# Print heatmap again\n",
    "corr2 = correlations.corr()\n",
    "sns.set()\n",
    "\n",
    "fig, ax = plt.subplots(figsize=(25, 15))\n",
    "sns.heatmap(round(corr2, 2), annot=True, ax=ax, cmap='coolwarm',\n",
    "            fmt='.2f', linewidths=0.5)\n",
    "fig.subplots_adjust(top=0.93)\n",
    "fig.suptitle('Mapa de Correlaciones');"
   ]
  },
  {
   "cell_type": "markdown",
   "metadata": {},
   "source": [
    "# Challenge 3 - Handle Missing Values\n",
    "\n",
    "The next step would be handling missing values. **We start by examining the number of missing values in each column, which you will do in the next cell.**"
   ]
  },
  {
   "cell_type": "code",
   "execution_count": 14,
   "metadata": {},
   "outputs": [],
   "source": [
    "# Your code here\n",
    "web_cleaned = correlations"
   ]
  },
  {
   "cell_type": "markdown",
   "metadata": {},
   "source": [
    "If you remember in the previous labs, we drop a column if the column contains a high proportion of missing values. After dropping those problematic columns, we drop the rows with missing values.\n",
    "\n",
    "#### In the cells below, handle the missing values from the dataset. Remember to comment the rationale of your decisions."
   ]
  },
  {
   "cell_type": "code",
   "execution_count": 15,
   "metadata": {},
   "outputs": [
    {
     "name": "stdout",
     "output_type": "stream",
     "text": [
      "<class 'pandas.core.frame.DataFrame'>\n",
      "Int64Index: 1779 entries, 0 to 1780\n",
      "Data columns (total 8 columns):\n",
      " #   Column                     Non-Null Count  Dtype  \n",
      "---  ------                     --------------  -----  \n",
      " 0   NUMBER_SPECIAL_CHARACTERS  1779 non-null   int64  \n",
      " 1   DIST_REMOTE_TCP_PORT       1779 non-null   int64  \n",
      " 2   REMOTE_IPS                 1779 non-null   int64  \n",
      " 3   APP_BYTES                  1779 non-null   int64  \n",
      " 4   SOURCE_APP_BYTES           1779 non-null   int64  \n",
      " 5   APP_PACKETS                1779 non-null   int64  \n",
      " 6   DNS_QUERY_TIMES            1779 non-null   float64\n",
      " 7   Type                       1779 non-null   int64  \n",
      "dtypes: float64(1), int64(7)\n",
      "memory usage: 125.1 KB\n"
     ]
    }
   ],
   "source": [
    "# Your code here\n",
    "web_cleaned.info()"
   ]
  },
  {
   "cell_type": "code",
   "execution_count": 16,
   "metadata": {},
   "outputs": [],
   "source": [
    "# Your comment here\n",
    "#Se eliminaron los valores nulos al inicio, para proceder a revisar la correlación entre variables"
   ]
  },
  {
   "cell_type": "markdown",
   "metadata": {},
   "source": [
    "#### Again, examine the number of missing values in each column. \n",
    "\n",
    "If all cleaned, proceed. Otherwise, go back and do more cleaning."
   ]
  },
  {
   "cell_type": "code",
   "execution_count": 17,
   "metadata": {},
   "outputs": [
    {
     "data": {
      "text/plain": [
       "NUMBER_SPECIAL_CHARACTERS    0\n",
       "DIST_REMOTE_TCP_PORT         0\n",
       "REMOTE_IPS                   0\n",
       "APP_BYTES                    0\n",
       "SOURCE_APP_BYTES             0\n",
       "APP_PACKETS                  0\n",
       "DNS_QUERY_TIMES              0\n",
       "Type                         0\n",
       "dtype: int64"
      ]
     },
     "execution_count": 17,
     "metadata": {},
     "output_type": "execute_result"
    }
   ],
   "source": [
    "# Examine missing values in each column\n",
    "web_cleaned.isnull().sum()"
   ]
  },
  {
   "cell_type": "markdown",
   "metadata": {},
   "source": [
    "# Challenge 4 - Handle `WHOIS_*` Categorical Data"
   ]
  },
  {
   "cell_type": "markdown",
   "metadata": {},
   "source": [
    "There are several categorical columns we need to handle. These columns are:\n",
    "\n",
    "* `URL`\n",
    "* `CHARSET`\n",
    "* `SERVER`\n",
    "* `WHOIS_COUNTRY`\n",
    "* `WHOIS_STATEPRO`\n",
    "* `WHOIS_REGDATE`\n",
    "* `WHOIS_UPDATED_DATE`\n",
    "\n",
    "How to handle string columns is always case by case. Let's start by working on `WHOIS_COUNTRY`. Your steps are:\n",
    "\n",
    "1. List out the unique values of `WHOIS_COUNTRY`.\n",
    "1. Consolidate the country values with consistent country codes. For example, the following values refer to the same country and should use consistent country code:\n",
    "    * `CY` and `Cyprus`\n",
    "    * `US` and `us`\n",
    "    * `SE` and `se`\n",
    "    * `GB`, `United Kingdom`, and `[u'GB'; u'UK']`\n",
    "\n",
    "#### In the cells below, fix the country values as intructed above."
   ]
  },
  {
   "cell_type": "code",
   "execution_count": 18,
   "metadata": {},
   "outputs": [
    {
     "data": {
      "text/plain": [
       "Index(['URL', 'CHARSET', 'SERVER', 'WHOIS_COUNTRY', 'WHOIS_STATEPRO',\n",
       "       'WHOIS_REGDATE', 'WHOIS_UPDATED_DATE'],\n",
       "      dtype='object')"
      ]
     },
     "execution_count": 18,
     "metadata": {},
     "output_type": "execute_result"
    }
   ],
   "source": [
    "# Your code here\n",
    "web_cat = websites_clean.select_dtypes(include = 'object')\n",
    "web_cat.columns"
   ]
  },
  {
   "cell_type": "code",
   "execution_count": 19,
   "metadata": {},
   "outputs": [
    {
     "data": {
      "text/plain": [
       "US                1102\n",
       "None               306\n",
       "CA                  83\n",
       "ES                  63\n",
       "AU                  35\n",
       "PA                  21\n",
       "GB                  19\n",
       "JP                  11\n",
       "CN                  10\n",
       "IN                  10\n",
       "UK                  10\n",
       "FR                   9\n",
       "CZ                   9\n",
       "NL                   6\n",
       "CH                   6\n",
       "KR                   5\n",
       "[u'GB'; u'UK']       5\n",
       "ru                   4\n",
       "PH                   4\n",
       "BS                   4\n",
       "AT                   4\n",
       "KY                   3\n",
       "SE                   3\n",
       "BE                   3\n",
       "SC                   3\n",
       "TR                   3\n",
       "DE                   3\n",
       "HK                   3\n",
       "us                   3\n",
       "IL                   2\n",
       "SI                   2\n",
       "UY                   2\n",
       "Cyprus               2\n",
       "RU                   2\n",
       "UA                   2\n",
       "KG                   2\n",
       "BR                   2\n",
       "NO                   2\n",
       "LU                   1\n",
       "LV                   1\n",
       "United Kingdom       1\n",
       "PK                   1\n",
       "IT                   1\n",
       "TH                   1\n",
       "BY                   1\n",
       "AE                   1\n",
       "IE                   1\n",
       "UG                   1\n",
       "se                   1\n",
       "Name: WHOIS_COUNTRY, dtype: int64"
      ]
     },
     "execution_count": 19,
     "metadata": {},
     "output_type": "execute_result"
    }
   ],
   "source": [
    "web_cleaned2 =web_cat\n",
    "web_cleaned2['WHOIS_COUNTRY'].value_counts()"
   ]
  },
  {
   "cell_type": "code",
   "execution_count": 20,
   "metadata": {},
   "outputs": [],
   "source": [
    "web_cleaned2['WHOIS_COUNTRY'] = web_cleaned2['WHOIS_COUNTRY'].apply(lambda x: 'CY' if x =='CYPRUS' else x)\n",
    "web_cleaned2['WHOIS_COUNTRY'] = web_cleaned2['WHOIS_COUNTRY'].apply(lambda x: x.upper())\n",
    "web_cleaned2['WHOIS_COUNTRY'] = web_cleaned2['WHOIS_COUNTRY'].apply(lambda x: 'CY' if x =='CYPRUS' else x)\n",
    "web_cleaned2['WHOIS_COUNTRY'] = web_cleaned2['WHOIS_COUNTRY'].apply(lambda x: 'GB' if x =='UNITED KINGDOM' or x == \"[U'GB'; U'UK']\" else x)\n",
    "web_cleaned2['WHOIS_COUNTRY'].unique()\n",
    "web_cleaned2['WHOIS_COUNTRY'] = web_cleaned2['WHOIS_COUNTRY'].apply(lambda x: 'UK' if x =='UNITED KINGDOM' or x == \"[U'GB'; U'UK']\" or x=='GB' else x)\n"
   ]
  },
  {
   "cell_type": "code",
   "execution_count": 21,
   "metadata": {},
   "outputs": [
    {
     "data": {
      "text/plain": [
       "US      1105\n",
       "NONE     306\n",
       "CA        83\n",
       "ES        63\n",
       "UK        35\n",
       "AU        35\n",
       "PA        21\n",
       "JP        11\n",
       "CN        10\n",
       "IN        10\n",
       "FR         9\n",
       "CZ         9\n",
       "NL         6\n",
       "CH         6\n",
       "RU         6\n",
       "KR         5\n",
       "AT         4\n",
       "SE         4\n",
       "BS         4\n",
       "PH         4\n",
       "BE         3\n",
       "HK         3\n",
       "TR         3\n",
       "DE         3\n",
       "KY         3\n",
       "SC         3\n",
       "UA         2\n",
       "CY         2\n",
       "UY         2\n",
       "KG         2\n",
       "BR         2\n",
       "NO         2\n",
       "IL         2\n",
       "SI         2\n",
       "LV         1\n",
       "PK         1\n",
       "IT         1\n",
       "LU         1\n",
       "BY         1\n",
       "AE         1\n",
       "IE         1\n",
       "UG         1\n",
       "TH         1\n",
       "Name: WHOIS_COUNTRY, dtype: int64"
      ]
     },
     "execution_count": 21,
     "metadata": {},
     "output_type": "execute_result"
    }
   ],
   "source": [
    "web_cleaned2['WHOIS_COUNTRY'].value_counts()"
   ]
  },
  {
   "cell_type": "markdown",
   "metadata": {},
   "source": [
    "Since we have fixed the country values, can we convert this column to ordinal now?\n",
    "\n",
    "Not yet. If you reflect on the previous labs how we handle categorical columns, you probably remember we ended up dropping a lot of those columns because there are too many unique values. Too many unique values in a column is not desirable in machine learning because it makes prediction inaccurate. But there are workarounds under certain conditions. One of the fixable conditions is:\n",
    "\n",
    "#### If a limited number of values account for the majority of data, we can retain these top values and re-label all other rare values.\n",
    "\n",
    "The `WHOIS_COUNTRY` column happens to be this case. You can verify it by print a bar chart of the `value_counts` in the next cell to verify:"
   ]
  },
  {
   "cell_type": "code",
   "execution_count": 22,
   "metadata": {},
   "outputs": [
    {
     "data": {
      "text/plain": [
       "Index(['US', 'NONE', 'CA', 'ES', 'UK', 'AU', 'PA', 'JP', 'CN', 'IN'], dtype='object')"
      ]
     },
     "execution_count": 22,
     "metadata": {},
     "output_type": "execute_result"
    }
   ],
   "source": [
    "# Your code here\n",
    "top_10_countries = ((web_cleaned2.WHOIS_COUNTRY.value_counts() / web_cleaned2.WHOIS_COUNTRY.count())*100).nlargest(10).index\n",
    "top_10_countries\n"
   ]
  },
  {
   "cell_type": "code",
   "execution_count": 23,
   "metadata": {},
   "outputs": [],
   "source": [
    "websites_clean_2 = web_cleaned2"
   ]
  },
  {
   "cell_type": "markdown",
   "metadata": {},
   "source": [
    "#### After verifying, now let's keep the top 10 values of the column and re-label other columns with `OTHER`."
   ]
  },
  {
   "cell_type": "code",
   "execution_count": 24,
   "metadata": {
    "scrolled": true
   },
   "outputs": [
    {
     "data": {
      "text/plain": [
       "array(['NONE', 'US', 'Other', 'UK', 'AU', 'CA', 'PA', 'IN', 'JP', 'CN',\n",
       "       'ES'], dtype=object)"
      ]
     },
     "execution_count": 24,
     "metadata": {},
     "output_type": "execute_result"
    }
   ],
   "source": [
    "# Your code here\n",
    "websites_clean_2['WHOIS_COUNTRY'] =websites_clean_2['WHOIS_COUNTRY'].apply(lambda x: 'Other' if x not in top_10_countries else x)\n",
    "websites_clean_2['WHOIS_COUNTRY'].value_counts()\n",
    "websites_clean_2.shape\n",
    "websites_clean_2['WHOIS_COUNTRY'].unique()"
   ]
  },
  {
   "cell_type": "markdown",
   "metadata": {},
   "source": [
    "Now since `WHOIS_COUNTRY` has been re-labelled, we don't need `WHOIS_STATEPRO` any more because the values of the states or provinces may not be relevant any more. We'll drop this column.\n",
    "\n",
    "In addition, we will also drop `WHOIS_REGDATE` and `WHOIS_UPDATED_DATE`. These are the registration and update dates of the website domains. Not of our concerns.\n",
    "\n",
    "#### In the next cell, drop `['WHOIS_STATEPRO', 'WHOIS_REGDATE', 'WHOIS_UPDATED_DATE']`."
   ]
  },
  {
   "cell_type": "code",
   "execution_count": 25,
   "metadata": {},
   "outputs": [
    {
     "data": {
      "text/html": [
       "<div>\n",
       "<style scoped>\n",
       "    .dataframe tbody tr th:only-of-type {\n",
       "        vertical-align: middle;\n",
       "    }\n",
       "\n",
       "    .dataframe tbody tr th {\n",
       "        vertical-align: top;\n",
       "    }\n",
       "\n",
       "    .dataframe thead th {\n",
       "        text-align: right;\n",
       "    }\n",
       "</style>\n",
       "<table border=\"1\" class=\"dataframe\">\n",
       "  <thead>\n",
       "    <tr style=\"text-align: right;\">\n",
       "      <th></th>\n",
       "      <th>URL</th>\n",
       "      <th>CHARSET</th>\n",
       "      <th>SERVER</th>\n",
       "      <th>WHOIS_COUNTRY</th>\n",
       "    </tr>\n",
       "  </thead>\n",
       "  <tbody>\n",
       "    <tr>\n",
       "      <th>0</th>\n",
       "      <td>M0_109</td>\n",
       "      <td>iso-8859-1</td>\n",
       "      <td>nginx</td>\n",
       "      <td>NONE</td>\n",
       "    </tr>\n",
       "    <tr>\n",
       "      <th>1</th>\n",
       "      <td>B0_2314</td>\n",
       "      <td>UTF-8</td>\n",
       "      <td>Apache/2.4.10</td>\n",
       "      <td>NONE</td>\n",
       "    </tr>\n",
       "    <tr>\n",
       "      <th>2</th>\n",
       "      <td>B0_911</td>\n",
       "      <td>us-ascii</td>\n",
       "      <td>Microsoft-HTTPAPI/2.0</td>\n",
       "      <td>NONE</td>\n",
       "    </tr>\n",
       "    <tr>\n",
       "      <th>3</th>\n",
       "      <td>B0_113</td>\n",
       "      <td>ISO-8859-1</td>\n",
       "      <td>nginx</td>\n",
       "      <td>US</td>\n",
       "    </tr>\n",
       "    <tr>\n",
       "      <th>4</th>\n",
       "      <td>B0_403</td>\n",
       "      <td>UTF-8</td>\n",
       "      <td>None</td>\n",
       "      <td>US</td>\n",
       "    </tr>\n",
       "    <tr>\n",
       "      <th>...</th>\n",
       "      <td>...</td>\n",
       "      <td>...</td>\n",
       "      <td>...</td>\n",
       "      <td>...</td>\n",
       "    </tr>\n",
       "    <tr>\n",
       "      <th>1776</th>\n",
       "      <td>M4_48</td>\n",
       "      <td>UTF-8</td>\n",
       "      <td>Apache</td>\n",
       "      <td>ES</td>\n",
       "    </tr>\n",
       "    <tr>\n",
       "      <th>1777</th>\n",
       "      <td>M4_41</td>\n",
       "      <td>UTF-8</td>\n",
       "      <td>Apache</td>\n",
       "      <td>ES</td>\n",
       "    </tr>\n",
       "    <tr>\n",
       "      <th>1778</th>\n",
       "      <td>B0_162</td>\n",
       "      <td>utf-8</td>\n",
       "      <td>Apache/2.2.16 (Debian)</td>\n",
       "      <td>US</td>\n",
       "    </tr>\n",
       "    <tr>\n",
       "      <th>1779</th>\n",
       "      <td>B0_1152</td>\n",
       "      <td>ISO-8859-1</td>\n",
       "      <td>cloudflare-nginx</td>\n",
       "      <td>US</td>\n",
       "    </tr>\n",
       "    <tr>\n",
       "      <th>1780</th>\n",
       "      <td>B0_676</td>\n",
       "      <td>utf-8</td>\n",
       "      <td>Microsoft-IIS/8.5</td>\n",
       "      <td>US</td>\n",
       "    </tr>\n",
       "  </tbody>\n",
       "</table>\n",
       "<p>1779 rows × 4 columns</p>\n",
       "</div>"
      ],
      "text/plain": [
       "          URL     CHARSET                  SERVER WHOIS_COUNTRY\n",
       "0      M0_109  iso-8859-1                   nginx          NONE\n",
       "1     B0_2314       UTF-8           Apache/2.4.10          NONE\n",
       "2      B0_911    us-ascii   Microsoft-HTTPAPI/2.0          NONE\n",
       "3      B0_113  ISO-8859-1                   nginx            US\n",
       "4      B0_403       UTF-8                    None            US\n",
       "...       ...         ...                     ...           ...\n",
       "1776    M4_48       UTF-8                  Apache            ES\n",
       "1777    M4_41       UTF-8                  Apache            ES\n",
       "1778   B0_162       utf-8  Apache/2.2.16 (Debian)            US\n",
       "1779  B0_1152  ISO-8859-1        cloudflare-nginx            US\n",
       "1780   B0_676       utf-8       Microsoft-IIS/8.5            US\n",
       "\n",
       "[1779 rows x 4 columns]"
      ]
     },
     "execution_count": 25,
     "metadata": {},
     "output_type": "execute_result"
    }
   ],
   "source": [
    "# Your code here\n",
    "websites = websites_clean_2.drop(columns=['WHOIS_STATEPRO', 'WHOIS_REGDATE', 'WHOIS_UPDATED_DATE'])\n",
    "websites"
   ]
  },
  {
   "cell_type": "markdown",
   "metadata": {},
   "source": [
    "# Challenge 5 - Handle Remaining Categorical Data & Convert to Ordinal\n",
    "\n",
    "Now print the `dtypes` of the data again. Besides `WHOIS_COUNTRY` which we already fixed, there should be 3 categorical columns left: `URL`, `CHARSET`, and `SERVER`."
   ]
  },
  {
   "cell_type": "code",
   "execution_count": 26,
   "metadata": {},
   "outputs": [
    {
     "data": {
      "text/html": [
       "<div>\n",
       "<style scoped>\n",
       "    .dataframe tbody tr th:only-of-type {\n",
       "        vertical-align: middle;\n",
       "    }\n",
       "\n",
       "    .dataframe tbody tr th {\n",
       "        vertical-align: top;\n",
       "    }\n",
       "\n",
       "    .dataframe thead th {\n",
       "        text-align: right;\n",
       "    }\n",
       "</style>\n",
       "<table border=\"1\" class=\"dataframe\">\n",
       "  <thead>\n",
       "    <tr style=\"text-align: right;\">\n",
       "      <th></th>\n",
       "      <th>URL</th>\n",
       "      <th>CHARSET</th>\n",
       "      <th>SERVER</th>\n",
       "      <th>WHOIS_COUNTRY</th>\n",
       "    </tr>\n",
       "  </thead>\n",
       "  <tbody>\n",
       "    <tr>\n",
       "      <th>0</th>\n",
       "      <td>M0_109</td>\n",
       "      <td>iso-8859-1</td>\n",
       "      <td>nginx</td>\n",
       "      <td>NONE</td>\n",
       "    </tr>\n",
       "    <tr>\n",
       "      <th>1</th>\n",
       "      <td>B0_2314</td>\n",
       "      <td>UTF-8</td>\n",
       "      <td>Apache/2.4.10</td>\n",
       "      <td>NONE</td>\n",
       "    </tr>\n",
       "    <tr>\n",
       "      <th>2</th>\n",
       "      <td>B0_911</td>\n",
       "      <td>us-ascii</td>\n",
       "      <td>Microsoft-HTTPAPI/2.0</td>\n",
       "      <td>NONE</td>\n",
       "    </tr>\n",
       "    <tr>\n",
       "      <th>3</th>\n",
       "      <td>B0_113</td>\n",
       "      <td>ISO-8859-1</td>\n",
       "      <td>nginx</td>\n",
       "      <td>US</td>\n",
       "    </tr>\n",
       "    <tr>\n",
       "      <th>4</th>\n",
       "      <td>B0_403</td>\n",
       "      <td>UTF-8</td>\n",
       "      <td>None</td>\n",
       "      <td>US</td>\n",
       "    </tr>\n",
       "    <tr>\n",
       "      <th>...</th>\n",
       "      <td>...</td>\n",
       "      <td>...</td>\n",
       "      <td>...</td>\n",
       "      <td>...</td>\n",
       "    </tr>\n",
       "    <tr>\n",
       "      <th>1776</th>\n",
       "      <td>M4_48</td>\n",
       "      <td>UTF-8</td>\n",
       "      <td>Apache</td>\n",
       "      <td>ES</td>\n",
       "    </tr>\n",
       "    <tr>\n",
       "      <th>1777</th>\n",
       "      <td>M4_41</td>\n",
       "      <td>UTF-8</td>\n",
       "      <td>Apache</td>\n",
       "      <td>ES</td>\n",
       "    </tr>\n",
       "    <tr>\n",
       "      <th>1778</th>\n",
       "      <td>B0_162</td>\n",
       "      <td>utf-8</td>\n",
       "      <td>Apache/2.2.16 (Debian)</td>\n",
       "      <td>US</td>\n",
       "    </tr>\n",
       "    <tr>\n",
       "      <th>1779</th>\n",
       "      <td>B0_1152</td>\n",
       "      <td>ISO-8859-1</td>\n",
       "      <td>cloudflare-nginx</td>\n",
       "      <td>US</td>\n",
       "    </tr>\n",
       "    <tr>\n",
       "      <th>1780</th>\n",
       "      <td>B0_676</td>\n",
       "      <td>utf-8</td>\n",
       "      <td>Microsoft-IIS/8.5</td>\n",
       "      <td>US</td>\n",
       "    </tr>\n",
       "  </tbody>\n",
       "</table>\n",
       "<p>1779 rows × 4 columns</p>\n",
       "</div>"
      ],
      "text/plain": [
       "          URL     CHARSET                  SERVER WHOIS_COUNTRY\n",
       "0      M0_109  iso-8859-1                   nginx          NONE\n",
       "1     B0_2314       UTF-8           Apache/2.4.10          NONE\n",
       "2      B0_911    us-ascii   Microsoft-HTTPAPI/2.0          NONE\n",
       "3      B0_113  ISO-8859-1                   nginx            US\n",
       "4      B0_403       UTF-8                    None            US\n",
       "...       ...         ...                     ...           ...\n",
       "1776    M4_48       UTF-8                  Apache            ES\n",
       "1777    M4_41       UTF-8                  Apache            ES\n",
       "1778   B0_162       utf-8  Apache/2.2.16 (Debian)            US\n",
       "1779  B0_1152  ISO-8859-1        cloudflare-nginx            US\n",
       "1780   B0_676       utf-8       Microsoft-IIS/8.5            US\n",
       "\n",
       "[1779 rows x 4 columns]"
      ]
     },
     "execution_count": 26,
     "metadata": {},
     "output_type": "execute_result"
    }
   ],
   "source": [
    "# Your code here\n",
    "websites"
   ]
  },
  {
   "cell_type": "markdown",
   "metadata": {},
   "source": [
    "#### `URL` is easy. We'll simply drop it because it has too many unique values that there's no way for us to consolidate."
   ]
  },
  {
   "cell_type": "code",
   "execution_count": 27,
   "metadata": {},
   "outputs": [],
   "source": [
    "# Your code here\n",
    "web_3 = websites.drop('URL', axis=1)"
   ]
  },
  {
   "cell_type": "markdown",
   "metadata": {},
   "source": [
    "#### Print the unique value counts of `CHARSET`. You see there are only a few unique values. So we can keep it as it is."
   ]
  },
  {
   "cell_type": "code",
   "execution_count": 28,
   "metadata": {},
   "outputs": [
    {
     "data": {
      "text/plain": [
       "array(['iso-8859-1', 'UTF-8', 'us-ascii', 'ISO-8859-1', 'utf-8', 'None',\n",
       "       'windows-1251', 'ISO-8859', 'windows-1252'], dtype=object)"
      ]
     },
     "execution_count": 28,
     "metadata": {},
     "output_type": "execute_result"
    }
   ],
   "source": [
    "# Your code here\n",
    "web_3['CHARSET'].unique()"
   ]
  },
  {
   "cell_type": "markdown",
   "metadata": {},
   "source": [
    "`SERVER` is a little more complicated. Print its unique values and think about how you can consolidate those values.\n",
    "\n",
    "#### Before you think of your own solution, don't read the instructions that come next."
   ]
  },
  {
   "cell_type": "code",
   "execution_count": 29,
   "metadata": {},
   "outputs": [
    {
     "data": {
      "text/plain": [
       "Apache                                                           385\n",
       "nginx                                                            211\n",
       "None                                                             175\n",
       "Microsoft-HTTPAPI/2.0                                            113\n",
       "cloudflare-nginx                                                  94\n",
       "                                                                ... \n",
       "IdeaWebServer/v0.80                                                1\n",
       "Apache/2.4.17 (Unix) OpenSSL/1.0.1e-fips PHP/5.6.19                1\n",
       "Microsoft-IIS/7.5; litigation_essentials.lexisnexis.com  9999      1\n",
       "XXXXXXXXXXXXXXXXXXXXXX                                             1\n",
       "Apache/2.2.16 (Debian)                                             1\n",
       "Name: SERVER, Length: 239, dtype: int64"
      ]
     },
     "execution_count": 29,
     "metadata": {},
     "output_type": "execute_result"
    }
   ],
   "source": [
    "# Your code here\n",
    "web_3.SERVER.value_counts().sort_values(ascending=False)"
   ]
  },
  {
   "cell_type": "markdown",
   "metadata": {},
   "source": [
    "![Think Hard](../think-hard.jpg)"
   ]
  },
  {
   "cell_type": "code",
   "execution_count": 30,
   "metadata": {},
   "outputs": [],
   "source": [
    "# Your comment here\n",
    "#Buscamos clasificar los valores pro los servidores más comunes"
   ]
  },
  {
   "cell_type": "markdown",
   "metadata": {},
   "source": [
    "Although there are so many unique values in the `SERVER` column, there are actually only 3 main server types: `Microsoft`, `Apache`, and `nginx`. Just check if each `SERVER` value contains any of those server types and re-label them. For `SERVER` values that don't contain any of those substrings, label with `Other`.\n",
    "\n",
    "At the end, your `SERVER` column should only contain 4 unique values: `Microsoft`, `Apache`, `nginx`, and `Other`."
   ]
  },
  {
   "cell_type": "code",
   "execution_count": 31,
   "metadata": {},
   "outputs": [
    {
     "data": {
      "text/plain": [
       "array(['nginx', 'Apache', 'Microsoft', 'Other'], dtype=object)"
      ]
     },
     "execution_count": 31,
     "metadata": {},
     "output_type": "execute_result"
    }
   ],
   "source": [
    "# Your code here\n",
    "def parse_server(row):\n",
    "    row = row.lower()\n",
    "    if 'microsoft' in row:\n",
    "        return 'Microsoft'\n",
    "    \n",
    "    elif 'apache' in row:\n",
    "        return 'Apache'\n",
    "    \n",
    "    elif 'nginx' in row:\n",
    "        return 'nginx'\n",
    "    else:\n",
    "        return 'Other'\n",
    "web_3['SERVER'] = web_3['SERVER'].apply(parse_server)\n",
    "web_3['SERVER'] .unique()\n"
   ]
  },
  {
   "cell_type": "code",
   "execution_count": 32,
   "metadata": {
    "scrolled": false
   },
   "outputs": [
    {
     "data": {
      "text/plain": [
       "Apache       642\n",
       "Other        503\n",
       "nginx        436\n",
       "Microsoft    198\n",
       "Name: SERVER, dtype: int64"
      ]
     },
     "execution_count": 32,
     "metadata": {},
     "output_type": "execute_result"
    }
   ],
   "source": [
    "# Count `SERVER` value counts here\n",
    "web_3['SERVER'].value_counts()"
   ]
  },
  {
   "cell_type": "markdown",
   "metadata": {},
   "source": [
    "OK, all our categorical data are fixed now. **Let's convert them to ordinal data using Pandas' `get_dummies` function ([documentation](https://pandas.pydata.org/pandas-docs/stable/generated/pandas.get_dummies.html)).** Make sure you drop the categorical columns by passing `drop_first=True` to `get_dummies` as we don't need them any more. **Also, assign the data with dummy values to a new variable `website_dummy`.**"
   ]
  },
  {
   "cell_type": "code",
   "execution_count": 33,
   "metadata": {},
   "outputs": [
    {
     "data": {
      "text/html": [
       "<div>\n",
       "<style scoped>\n",
       "    .dataframe tbody tr th:only-of-type {\n",
       "        vertical-align: middle;\n",
       "    }\n",
       "\n",
       "    .dataframe tbody tr th {\n",
       "        vertical-align: top;\n",
       "    }\n",
       "\n",
       "    .dataframe thead th {\n",
       "        text-align: right;\n",
       "    }\n",
       "</style>\n",
       "<table border=\"1\" class=\"dataframe\">\n",
       "  <thead>\n",
       "    <tr style=\"text-align: right;\">\n",
       "      <th></th>\n",
       "      <th>CHARSET_ISO-8859-1</th>\n",
       "      <th>CHARSET_None</th>\n",
       "      <th>CHARSET_UTF-8</th>\n",
       "      <th>CHARSET_iso-8859-1</th>\n",
       "      <th>CHARSET_us-ascii</th>\n",
       "      <th>CHARSET_utf-8</th>\n",
       "      <th>CHARSET_windows-1251</th>\n",
       "      <th>CHARSET_windows-1252</th>\n",
       "      <th>SERVER_Microsoft</th>\n",
       "      <th>SERVER_Other</th>\n",
       "      <th>...</th>\n",
       "      <th>WHOIS_COUNTRY_CA</th>\n",
       "      <th>WHOIS_COUNTRY_CN</th>\n",
       "      <th>WHOIS_COUNTRY_ES</th>\n",
       "      <th>WHOIS_COUNTRY_IN</th>\n",
       "      <th>WHOIS_COUNTRY_JP</th>\n",
       "      <th>WHOIS_COUNTRY_NONE</th>\n",
       "      <th>WHOIS_COUNTRY_Other</th>\n",
       "      <th>WHOIS_COUNTRY_PA</th>\n",
       "      <th>WHOIS_COUNTRY_UK</th>\n",
       "      <th>WHOIS_COUNTRY_US</th>\n",
       "    </tr>\n",
       "  </thead>\n",
       "  <tbody>\n",
       "    <tr>\n",
       "      <th>0</th>\n",
       "      <td>0</td>\n",
       "      <td>0</td>\n",
       "      <td>0</td>\n",
       "      <td>1</td>\n",
       "      <td>0</td>\n",
       "      <td>0</td>\n",
       "      <td>0</td>\n",
       "      <td>0</td>\n",
       "      <td>0</td>\n",
       "      <td>0</td>\n",
       "      <td>...</td>\n",
       "      <td>0</td>\n",
       "      <td>0</td>\n",
       "      <td>0</td>\n",
       "      <td>0</td>\n",
       "      <td>0</td>\n",
       "      <td>1</td>\n",
       "      <td>0</td>\n",
       "      <td>0</td>\n",
       "      <td>0</td>\n",
       "      <td>0</td>\n",
       "    </tr>\n",
       "    <tr>\n",
       "      <th>1</th>\n",
       "      <td>0</td>\n",
       "      <td>0</td>\n",
       "      <td>1</td>\n",
       "      <td>0</td>\n",
       "      <td>0</td>\n",
       "      <td>0</td>\n",
       "      <td>0</td>\n",
       "      <td>0</td>\n",
       "      <td>0</td>\n",
       "      <td>0</td>\n",
       "      <td>...</td>\n",
       "      <td>0</td>\n",
       "      <td>0</td>\n",
       "      <td>0</td>\n",
       "      <td>0</td>\n",
       "      <td>0</td>\n",
       "      <td>1</td>\n",
       "      <td>0</td>\n",
       "      <td>0</td>\n",
       "      <td>0</td>\n",
       "      <td>0</td>\n",
       "    </tr>\n",
       "    <tr>\n",
       "      <th>2</th>\n",
       "      <td>0</td>\n",
       "      <td>0</td>\n",
       "      <td>0</td>\n",
       "      <td>0</td>\n",
       "      <td>1</td>\n",
       "      <td>0</td>\n",
       "      <td>0</td>\n",
       "      <td>0</td>\n",
       "      <td>1</td>\n",
       "      <td>0</td>\n",
       "      <td>...</td>\n",
       "      <td>0</td>\n",
       "      <td>0</td>\n",
       "      <td>0</td>\n",
       "      <td>0</td>\n",
       "      <td>0</td>\n",
       "      <td>1</td>\n",
       "      <td>0</td>\n",
       "      <td>0</td>\n",
       "      <td>0</td>\n",
       "      <td>0</td>\n",
       "    </tr>\n",
       "    <tr>\n",
       "      <th>3</th>\n",
       "      <td>1</td>\n",
       "      <td>0</td>\n",
       "      <td>0</td>\n",
       "      <td>0</td>\n",
       "      <td>0</td>\n",
       "      <td>0</td>\n",
       "      <td>0</td>\n",
       "      <td>0</td>\n",
       "      <td>0</td>\n",
       "      <td>0</td>\n",
       "      <td>...</td>\n",
       "      <td>0</td>\n",
       "      <td>0</td>\n",
       "      <td>0</td>\n",
       "      <td>0</td>\n",
       "      <td>0</td>\n",
       "      <td>0</td>\n",
       "      <td>0</td>\n",
       "      <td>0</td>\n",
       "      <td>0</td>\n",
       "      <td>1</td>\n",
       "    </tr>\n",
       "    <tr>\n",
       "      <th>4</th>\n",
       "      <td>0</td>\n",
       "      <td>0</td>\n",
       "      <td>1</td>\n",
       "      <td>0</td>\n",
       "      <td>0</td>\n",
       "      <td>0</td>\n",
       "      <td>0</td>\n",
       "      <td>0</td>\n",
       "      <td>0</td>\n",
       "      <td>1</td>\n",
       "      <td>...</td>\n",
       "      <td>0</td>\n",
       "      <td>0</td>\n",
       "      <td>0</td>\n",
       "      <td>0</td>\n",
       "      <td>0</td>\n",
       "      <td>0</td>\n",
       "      <td>0</td>\n",
       "      <td>0</td>\n",
       "      <td>0</td>\n",
       "      <td>1</td>\n",
       "    </tr>\n",
       "    <tr>\n",
       "      <th>...</th>\n",
       "      <td>...</td>\n",
       "      <td>...</td>\n",
       "      <td>...</td>\n",
       "      <td>...</td>\n",
       "      <td>...</td>\n",
       "      <td>...</td>\n",
       "      <td>...</td>\n",
       "      <td>...</td>\n",
       "      <td>...</td>\n",
       "      <td>...</td>\n",
       "      <td>...</td>\n",
       "      <td>...</td>\n",
       "      <td>...</td>\n",
       "      <td>...</td>\n",
       "      <td>...</td>\n",
       "      <td>...</td>\n",
       "      <td>...</td>\n",
       "      <td>...</td>\n",
       "      <td>...</td>\n",
       "      <td>...</td>\n",
       "      <td>...</td>\n",
       "    </tr>\n",
       "    <tr>\n",
       "      <th>1776</th>\n",
       "      <td>0</td>\n",
       "      <td>0</td>\n",
       "      <td>1</td>\n",
       "      <td>0</td>\n",
       "      <td>0</td>\n",
       "      <td>0</td>\n",
       "      <td>0</td>\n",
       "      <td>0</td>\n",
       "      <td>0</td>\n",
       "      <td>0</td>\n",
       "      <td>...</td>\n",
       "      <td>0</td>\n",
       "      <td>0</td>\n",
       "      <td>1</td>\n",
       "      <td>0</td>\n",
       "      <td>0</td>\n",
       "      <td>0</td>\n",
       "      <td>0</td>\n",
       "      <td>0</td>\n",
       "      <td>0</td>\n",
       "      <td>0</td>\n",
       "    </tr>\n",
       "    <tr>\n",
       "      <th>1777</th>\n",
       "      <td>0</td>\n",
       "      <td>0</td>\n",
       "      <td>1</td>\n",
       "      <td>0</td>\n",
       "      <td>0</td>\n",
       "      <td>0</td>\n",
       "      <td>0</td>\n",
       "      <td>0</td>\n",
       "      <td>0</td>\n",
       "      <td>0</td>\n",
       "      <td>...</td>\n",
       "      <td>0</td>\n",
       "      <td>0</td>\n",
       "      <td>1</td>\n",
       "      <td>0</td>\n",
       "      <td>0</td>\n",
       "      <td>0</td>\n",
       "      <td>0</td>\n",
       "      <td>0</td>\n",
       "      <td>0</td>\n",
       "      <td>0</td>\n",
       "    </tr>\n",
       "    <tr>\n",
       "      <th>1778</th>\n",
       "      <td>0</td>\n",
       "      <td>0</td>\n",
       "      <td>0</td>\n",
       "      <td>0</td>\n",
       "      <td>0</td>\n",
       "      <td>1</td>\n",
       "      <td>0</td>\n",
       "      <td>0</td>\n",
       "      <td>0</td>\n",
       "      <td>0</td>\n",
       "      <td>...</td>\n",
       "      <td>0</td>\n",
       "      <td>0</td>\n",
       "      <td>0</td>\n",
       "      <td>0</td>\n",
       "      <td>0</td>\n",
       "      <td>0</td>\n",
       "      <td>0</td>\n",
       "      <td>0</td>\n",
       "      <td>0</td>\n",
       "      <td>1</td>\n",
       "    </tr>\n",
       "    <tr>\n",
       "      <th>1779</th>\n",
       "      <td>1</td>\n",
       "      <td>0</td>\n",
       "      <td>0</td>\n",
       "      <td>0</td>\n",
       "      <td>0</td>\n",
       "      <td>0</td>\n",
       "      <td>0</td>\n",
       "      <td>0</td>\n",
       "      <td>0</td>\n",
       "      <td>0</td>\n",
       "      <td>...</td>\n",
       "      <td>0</td>\n",
       "      <td>0</td>\n",
       "      <td>0</td>\n",
       "      <td>0</td>\n",
       "      <td>0</td>\n",
       "      <td>0</td>\n",
       "      <td>0</td>\n",
       "      <td>0</td>\n",
       "      <td>0</td>\n",
       "      <td>1</td>\n",
       "    </tr>\n",
       "    <tr>\n",
       "      <th>1780</th>\n",
       "      <td>0</td>\n",
       "      <td>0</td>\n",
       "      <td>0</td>\n",
       "      <td>0</td>\n",
       "      <td>0</td>\n",
       "      <td>1</td>\n",
       "      <td>0</td>\n",
       "      <td>0</td>\n",
       "      <td>1</td>\n",
       "      <td>0</td>\n",
       "      <td>...</td>\n",
       "      <td>0</td>\n",
       "      <td>0</td>\n",
       "      <td>0</td>\n",
       "      <td>0</td>\n",
       "      <td>0</td>\n",
       "      <td>0</td>\n",
       "      <td>0</td>\n",
       "      <td>0</td>\n",
       "      <td>0</td>\n",
       "      <td>1</td>\n",
       "    </tr>\n",
       "  </tbody>\n",
       "</table>\n",
       "<p>1779 rows × 21 columns</p>\n",
       "</div>"
      ],
      "text/plain": [
       "      CHARSET_ISO-8859-1  CHARSET_None  CHARSET_UTF-8  CHARSET_iso-8859-1  \\\n",
       "0                      0             0              0                   1   \n",
       "1                      0             0              1                   0   \n",
       "2                      0             0              0                   0   \n",
       "3                      1             0              0                   0   \n",
       "4                      0             0              1                   0   \n",
       "...                  ...           ...            ...                 ...   \n",
       "1776                   0             0              1                   0   \n",
       "1777                   0             0              1                   0   \n",
       "1778                   0             0              0                   0   \n",
       "1779                   1             0              0                   0   \n",
       "1780                   0             0              0                   0   \n",
       "\n",
       "      CHARSET_us-ascii  CHARSET_utf-8  CHARSET_windows-1251  \\\n",
       "0                    0              0                     0   \n",
       "1                    0              0                     0   \n",
       "2                    1              0                     0   \n",
       "3                    0              0                     0   \n",
       "4                    0              0                     0   \n",
       "...                ...            ...                   ...   \n",
       "1776                 0              0                     0   \n",
       "1777                 0              0                     0   \n",
       "1778                 0              1                     0   \n",
       "1779                 0              0                     0   \n",
       "1780                 0              1                     0   \n",
       "\n",
       "      CHARSET_windows-1252  SERVER_Microsoft  SERVER_Other  ...  \\\n",
       "0                        0                 0             0  ...   \n",
       "1                        0                 0             0  ...   \n",
       "2                        0                 1             0  ...   \n",
       "3                        0                 0             0  ...   \n",
       "4                        0                 0             1  ...   \n",
       "...                    ...               ...           ...  ...   \n",
       "1776                     0                 0             0  ...   \n",
       "1777                     0                 0             0  ...   \n",
       "1778                     0                 0             0  ...   \n",
       "1779                     0                 0             0  ...   \n",
       "1780                     0                 1             0  ...   \n",
       "\n",
       "      WHOIS_COUNTRY_CA  WHOIS_COUNTRY_CN  WHOIS_COUNTRY_ES  WHOIS_COUNTRY_IN  \\\n",
       "0                    0                 0                 0                 0   \n",
       "1                    0                 0                 0                 0   \n",
       "2                    0                 0                 0                 0   \n",
       "3                    0                 0                 0                 0   \n",
       "4                    0                 0                 0                 0   \n",
       "...                ...               ...               ...               ...   \n",
       "1776                 0                 0                 1                 0   \n",
       "1777                 0                 0                 1                 0   \n",
       "1778                 0                 0                 0                 0   \n",
       "1779                 0                 0                 0                 0   \n",
       "1780                 0                 0                 0                 0   \n",
       "\n",
       "      WHOIS_COUNTRY_JP  WHOIS_COUNTRY_NONE  WHOIS_COUNTRY_Other  \\\n",
       "0                    0                   1                    0   \n",
       "1                    0                   1                    0   \n",
       "2                    0                   1                    0   \n",
       "3                    0                   0                    0   \n",
       "4                    0                   0                    0   \n",
       "...                ...                 ...                  ...   \n",
       "1776                 0                   0                    0   \n",
       "1777                 0                   0                    0   \n",
       "1778                 0                   0                    0   \n",
       "1779                 0                   0                    0   \n",
       "1780                 0                   0                    0   \n",
       "\n",
       "      WHOIS_COUNTRY_PA  WHOIS_COUNTRY_UK  WHOIS_COUNTRY_US  \n",
       "0                    0                 0                 0  \n",
       "1                    0                 0                 0  \n",
       "2                    0                 0                 0  \n",
       "3                    0                 0                 1  \n",
       "4                    0                 0                 1  \n",
       "...                ...               ...               ...  \n",
       "1776                 0                 0                 0  \n",
       "1777                 0                 0                 0  \n",
       "1778                 0                 0                 1  \n",
       "1779                 0                 0                 1  \n",
       "1780                 0                 0                 1  \n",
       "\n",
       "[1779 rows x 21 columns]"
      ]
     },
     "execution_count": 33,
     "metadata": {},
     "output_type": "execute_result"
    }
   ],
   "source": [
    "# Your code here\n",
    "website_dummy = pd.get_dummies(data=web_3, drop_first=True)\n",
    "website_dummy"
   ]
  },
  {
   "cell_type": "markdown",
   "metadata": {},
   "source": [
    "Now, inspect `website_dummy` to make sure the data and types are intended - there shouldn't be any categorical columns at this point."
   ]
  },
  {
   "cell_type": "code",
   "execution_count": 34,
   "metadata": {},
   "outputs": [
    {
     "name": "stdout",
     "output_type": "stream",
     "text": [
      "<class 'pandas.core.frame.DataFrame'>\n",
      "Int64Index: 1779 entries, 0 to 1780\n",
      "Data columns (total 29 columns):\n",
      " #   Column                     Non-Null Count  Dtype  \n",
      "---  ------                     --------------  -----  \n",
      " 0   NUMBER_SPECIAL_CHARACTERS  1779 non-null   int64  \n",
      " 1   DIST_REMOTE_TCP_PORT       1779 non-null   int64  \n",
      " 2   REMOTE_IPS                 1779 non-null   int64  \n",
      " 3   APP_BYTES                  1779 non-null   int64  \n",
      " 4   SOURCE_APP_BYTES           1779 non-null   int64  \n",
      " 5   APP_PACKETS                1779 non-null   int64  \n",
      " 6   DNS_QUERY_TIMES            1779 non-null   float64\n",
      " 7   Type                       1779 non-null   int64  \n",
      " 8   CHARSET_ISO-8859-1         1779 non-null   uint8  \n",
      " 9   CHARSET_None               1779 non-null   uint8  \n",
      " 10  CHARSET_UTF-8              1779 non-null   uint8  \n",
      " 11  CHARSET_iso-8859-1         1779 non-null   uint8  \n",
      " 12  CHARSET_us-ascii           1779 non-null   uint8  \n",
      " 13  CHARSET_utf-8              1779 non-null   uint8  \n",
      " 14  CHARSET_windows-1251       1779 non-null   uint8  \n",
      " 15  CHARSET_windows-1252       1779 non-null   uint8  \n",
      " 16  SERVER_Microsoft           1779 non-null   uint8  \n",
      " 17  SERVER_Other               1779 non-null   uint8  \n",
      " 18  SERVER_nginx               1779 non-null   uint8  \n",
      " 19  WHOIS_COUNTRY_CA           1779 non-null   uint8  \n",
      " 20  WHOIS_COUNTRY_CN           1779 non-null   uint8  \n",
      " 21  WHOIS_COUNTRY_ES           1779 non-null   uint8  \n",
      " 22  WHOIS_COUNTRY_IN           1779 non-null   uint8  \n",
      " 23  WHOIS_COUNTRY_JP           1779 non-null   uint8  \n",
      " 24  WHOIS_COUNTRY_NONE         1779 non-null   uint8  \n",
      " 25  WHOIS_COUNTRY_Other        1779 non-null   uint8  \n",
      " 26  WHOIS_COUNTRY_PA           1779 non-null   uint8  \n",
      " 27  WHOIS_COUNTRY_UK           1779 non-null   uint8  \n",
      " 28  WHOIS_COUNTRY_US           1779 non-null   uint8  \n",
      "dtypes: float64(1), int64(7), uint8(21)\n",
      "memory usage: 226.1 KB\n"
     ]
    }
   ],
   "source": [
    "# Your code here\n",
    "#Juntar los df trabajados por separado de numericas y categóricas\n",
    "web_total = web_cleaned.merge(website_dummy, how='inner', left_index=True, right_index=True)\n",
    "web_total.info()"
   ]
  },
  {
   "cell_type": "markdown",
   "metadata": {},
   "source": [
    "# Challenge 6 - Modeling, Prediction, and Evaluation\n",
    "\n",
    "We'll start off this section by splitting the data to train and test. **Name your 4 variables `X_train`, `X_test`, `y_train`, and `y_test`. Select 80% of the data for training and 20% for testing.**"
   ]
  },
  {
   "cell_type": "code",
   "execution_count": 35,
   "metadata": {},
   "outputs": [
    {
     "data": {
      "text/plain": [
       "((1423, 28), (356, 28), (1423,), (356,))"
      ]
     },
     "execution_count": 35,
     "metadata": {},
     "output_type": "execute_result"
    }
   ],
   "source": [
    "from sklearn.model_selection import train_test_split\n",
    "\n",
    "# Your code here:\n",
    "y = web_total['Type']\n",
    "X = web_total.drop(columns=['Type']).copy()\n",
    "X_train, X_test, y_train, y_test = train_test_split(X, y, test_size=0.2, \n",
    "                                                    random_state=0)\n",
    "X_train.shape, X_test.shape, y_train.shape, y_test.shape"
   ]
  },
  {
   "cell_type": "markdown",
   "metadata": {},
   "source": [
    "#### In this lab, we will try two different models and compare our results.\n",
    "\n",
    "The first model we will use in this lab is logistic regression. We have previously learned about logistic regression as a classification algorithm. In the cell below, load `LogisticRegression` from scikit-learn and initialize the model."
   ]
  },
  {
   "cell_type": "code",
   "execution_count": 36,
   "metadata": {},
   "outputs": [
    {
     "data": {
      "text/plain": [
       "LogisticRegression(solver='liblinear')"
      ]
     },
     "execution_count": 36,
     "metadata": {},
     "output_type": "execute_result"
    }
   ],
   "source": [
    "# Your code here:\n",
    "from sklearn.linear_model import LogisticRegression\n",
    "from sklearn.model_selection import train_test_split\n",
    "lr = LogisticRegression(solver='liblinear')\n",
    "lr.fit(X_train, y_train)\n"
   ]
  },
  {
   "cell_type": "markdown",
   "metadata": {},
   "source": [
    "Next, fit the model to our training data. We have already separated our data into 4 parts. Use those in your model."
   ]
  },
  {
   "cell_type": "code",
   "execution_count": 37,
   "metadata": {},
   "outputs": [
    {
     "data": {
      "text/plain": [
       "0.8791286015460296"
      ]
     },
     "execution_count": 37,
     "metadata": {},
     "output_type": "execute_result"
    }
   ],
   "source": [
    "# Your code here:\n",
    "\n",
    "y_pred = lr.predict(X_test)\n",
    "\n",
    "df_predict = pd.DataFrame({'Actual': y_test, 'Predicted': y_pred})\n",
    "df_predict\n",
    "# Accuracy - número de predicciones correctas contra el total \n",
    "# de predicciones\n",
    "\n",
    "lr.score(X_train, y_train)"
   ]
  },
  {
   "cell_type": "code",
   "execution_count": 38,
   "metadata": {},
   "outputs": [
    {
     "data": {
      "text/plain": [
       "0.8960674157303371"
      ]
     },
     "execution_count": 38,
     "metadata": {},
     "output_type": "execute_result"
    }
   ],
   "source": [
    "lr.score(X_test, y_test)"
   ]
  },
  {
   "cell_type": "markdown",
   "metadata": {},
   "source": [
    "finally, import `confusion_matrix` and `accuracy_score` from `sklearn.metrics` and fit our testing data. Assign the fitted data to `y_pred` and print the confusion matrix as well as the accuracy score"
   ]
  },
  {
   "cell_type": "code",
   "execution_count": 39,
   "metadata": {},
   "outputs": [
    {
     "data": {
      "text/plain": [
       "array([[311,   6],\n",
       "       [ 31,   8]], dtype=int64)"
      ]
     },
     "execution_count": 39,
     "metadata": {},
     "output_type": "execute_result"
    }
   ],
   "source": [
    "# Your code here:\n",
    "from sklearn.metrics import classification_report\n",
    "from sklearn.model_selection import cross_val_score, train_test_split\n",
    "from sklearn.tree import DecisionTreeClassifier\n",
    "from sklearn.metrics import confusion_matrix\n",
    "from sklearn import metrics\n",
    "from sklearn import tree\n",
    "confusion_matrix(y_test, y_pred)\n"
   ]
  },
  {
   "cell_type": "code",
   "execution_count": 40,
   "metadata": {
    "scrolled": true
   },
   "outputs": [
    {
     "name": "stderr",
     "output_type": "stream",
     "text": [
      "C:\\Users\\52555\\AppData\\Local\\Programs\\Python\\Python310\\lib\\site-packages\\sklearn\\utils\\deprecation.py:87: FutureWarning: Function plot_confusion_matrix is deprecated; Function `plot_confusion_matrix` is deprecated in 1.0 and will be removed in 1.2. Use one of the class methods: ConfusionMatrixDisplay.from_predictions or ConfusionMatrixDisplay.from_estimator.\n",
      "  warnings.warn(msg, category=FutureWarning)\n"
     ]
    },
    {
     "data": {
      "image/png": "[encoded data removed]",
      "text/plain": [
       "<Figure size 432x288 with 2 Axes>"
      ]
     },
     "metadata": {},
     "output_type": "display_data"
    }
   ],
   "source": [
    "metrics.plot_confusion_matrix(lr, X_test, y_test);\n"
   ]
  },
  {
   "cell_type": "code",
   "execution_count": 41,
   "metadata": {},
   "outputs": [
    {
     "name": "stdout",
     "output_type": "stream",
     "text": [
      "              precision    recall  f1-score   support\n",
      "\n",
      "         MWS       0.89      0.98      0.93      1246\n",
      "         BWS       0.54      0.18      0.27       177\n",
      "\n",
      "    accuracy                           0.88      1423\n",
      "   macro avg       0.72      0.58      0.60      1423\n",
      "weighted avg       0.85      0.88      0.85      1423\n",
      "\n",
      "%%%%%%%%%%%%%%%%%%%%%%%%%%%%%%%%%%%%%%%%%%%%%%%%%%%%%%%%%%%%%%%%%%%%%%%%%%%%%%%%%%%%%%%%%%%%%%%%%%%%%%%%%%%%%%%%%%%%%%%%\n",
      "\n",
      "              precision    recall  f1-score   support\n",
      "\n",
      "         MWS       0.91      0.98      0.94       317\n",
      "         BWS       0.57      0.21      0.30        39\n",
      "\n",
      "    accuracy                           0.90       356\n",
      "   macro avg       0.74      0.59      0.62       356\n",
      "weighted avg       0.87      0.90      0.87       356\n",
      "\n"
     ]
    }
   ],
   "source": [
    "class_names = ['MWS', 'BWS']\n",
    "\n",
    "print(classification_report(y_train, lr.predict(X_train), target_names=class_names))\n",
    "\n",
    "print('%%%%'*30)\n",
    "print()\n",
    "\n",
    "print(classification_report(y_test, y_pred, target_names=class_names))"
   ]
  },
  {
   "cell_type": "markdown",
   "metadata": {},
   "source": [
    "What are your thoughts on the performance of the model? Write your conclusions below."
   ]
  },
  {
   "cell_type": "code",
   "execution_count": 42,
   "metadata": {},
   "outputs": [],
   "source": [
    "# Your conclusions here:\n",
    "#Con base en los score, se puede identificar que parece no haber sobre overfitting \n"
   ]
  },
  {
   "cell_type": "markdown",
   "metadata": {},
   "source": [
    "#### Our second algorithm is is K-Nearest Neighbors. \n",
    "\n",
    "Though is it not required, we will fit a model using the training data and then test the performance of the model using the testing data. Start by loading `KNeighborsClassifier` from scikit-learn and then initializing and fitting the model. We'll start off with a model where k=3."
   ]
  },
  {
   "cell_type": "code",
   "execution_count": 43,
   "metadata": {},
   "outputs": [
    {
     "data": {
      "text/plain": [
       "KNeighborsClassifier(metric='euclidean', n_neighbors=3)"
      ]
     },
     "execution_count": 43,
     "metadata": {},
     "output_type": "execute_result"
    }
   ],
   "source": [
    "# Your code here:\n",
    "from sklearn import neighbors\n",
    "clf = neighbors.KNeighborsClassifier(n_neighbors=3, algorithm='auto',\n",
    "                                     p=2, metric='euclidean')\n",
    "clf.fit(X_train, y_train)"
   ]
  },
  {
   "cell_type": "markdown",
   "metadata": {},
   "source": [
    "To test your model, compute the predicted values for the testing sample and print the confusion matrix as well as the accuracy score."
   ]
  },
  {
   "cell_type": "code",
   "execution_count": 44,
   "metadata": {},
   "outputs": [
    {
     "name": "stdout",
     "output_type": "stream",
     "text": [
      "              precision    recall  f1-score   support\n",
      "\n",
      "         MWS       0.97      0.98      0.98      1246\n",
      "         BWS       0.87      0.77      0.82       177\n",
      "\n",
      "    accuracy                           0.96      1423\n",
      "   macro avg       0.92      0.88      0.90      1423\n",
      "weighted avg       0.96      0.96      0.96      1423\n",
      "\n",
      "%%%%%%%%%%%%%%%%%%%%%%%%%%%%%%%%%%%%%%%%%%%%%%%%%%%%%%%%%%%%%%%%%%%%%%%%%%%%%%%%%%%%%%%%%%%%%%%%%%%%%%%%%%%%%%%%%%%%%%%%\n",
      "\n",
      "              precision    recall  f1-score   support\n",
      "\n",
      "         MWS       0.96      0.96      0.96       317\n",
      "         BWS       0.68      0.69      0.68        39\n",
      "\n",
      "    accuracy                           0.93       356\n",
      "   macro avg       0.82      0.83      0.82       356\n",
      "weighted avg       0.93      0.93      0.93       356\n",
      "\n"
     ]
    }
   ],
   "source": [
    "# Your code here:\n",
    "y_pred = clf.predict(X_test)\n",
    "class_names = ['MWS', 'BWS']\n",
    "\n",
    "print(classification_report(y_train, clf.predict(X_train), target_names=class_names))\n",
    "\n",
    "print('%%%%'*30)\n",
    "print()\n",
    "\n",
    "print(classification_report(y_test, y_pred, target_names=class_names))"
   ]
  },
  {
   "cell_type": "markdown",
   "metadata": {},
   "source": [
    "#### We'll create another K-Nearest Neighbors model with k=5. \n",
    "\n",
    "Initialize and fit the model below and print the confusion matrix and the accuracy score."
   ]
  },
  {
   "cell_type": "code",
   "execution_count": 45,
   "metadata": {},
   "outputs": [
    {
     "data": {
      "text/plain": [
       "KNeighborsClassifier(metric='euclidean')"
      ]
     },
     "execution_count": 45,
     "metadata": {},
     "output_type": "execute_result"
    }
   ],
   "source": [
    "# Your code here:\n",
    "clf_5 = neighbors.KNeighborsClassifier(n_neighbors=5, algorithm='auto',\n",
    "                                     p=2, metric='euclidean')\n",
    "clf_5.fit(X_train, y_train)\n"
   ]
  },
  {
   "cell_type": "markdown",
   "metadata": {},
   "source": [
    "Did you see an improvement in the confusion matrix when increasing k to 5? Did you see an improvement in the accuracy score? Write your conclusions below."
   ]
  },
  {
   "cell_type": "code",
   "execution_count": 46,
   "metadata": {},
   "outputs": [
    {
     "name": "stdout",
     "output_type": "stream",
     "text": [
      "              precision    recall  f1-score   support\n",
      "\n",
      "         MWS       0.96      0.98      0.97      1246\n",
      "         BWS       0.86      0.70      0.77       177\n",
      "\n",
      "    accuracy                           0.95      1423\n",
      "   macro avg       0.91      0.84      0.87      1423\n",
      "weighted avg       0.95      0.95      0.95      1423\n",
      "\n",
      "%%%%%%%%%%%%%%%%%%%%%%%%%%%%%%%%%%%%%%%%%%%%%%%%%%%%%%%%%%%%%%%%%%%%%%%%%%%%%%%%%%%%%%%%%%%%%%%%%%%%%%%%%%%%%%%%%%%%%%%%\n",
      "\n",
      "              precision    recall  f1-score   support\n",
      "\n",
      "         MWS       0.96      0.97      0.97       317\n",
      "         BWS       0.76      0.64      0.69        39\n",
      "\n",
      "    accuracy                           0.94       356\n",
      "   macro avg       0.86      0.81      0.83       356\n",
      "weighted avg       0.93      0.94      0.94       356\n",
      "\n"
     ]
    }
   ],
   "source": [
    "# Your conclusions here:\n",
    "\n",
    "y_pred = clf_5.predict(X_test)\n",
    "class_names = ['MWS', 'BWS']\n",
    "\n",
    "print(classification_report(y_train, clf_5.predict(X_train), target_names=class_names))\n",
    "\n",
    "print('%%%%'*30)\n",
    "print()\n",
    "\n",
    "print(classification_report(y_test, y_pred, target_names=class_names))\n",
    "\n",
    "#No se identifica mucha diferencia entre el modelo con 3 vecinos al modelo con 5, en ambos no parece haber overtfitting."
   ]
  },
  {
   "cell_type": "markdown",
   "metadata": {},
   "source": [
    "# Bonus Challenge - Feature Scaling\n",
    "\n",
    "Problem-solving in machine learning is iterative. You can improve your model prediction with various techniques (there is a sweetspot for the time you spend and the improvement you receive though). Now you've completed only one iteration of ML analysis. There are more iterations you can conduct to make improvements. In order to be able to do that, you will need deeper knowledge in statistics and master more data analysis techniques. In this bootcamp, we don't have time to achieve that advanced goal. But you will make constant efforts after the bootcamp to eventually get there.\n",
    "\n",
    "However, now we do want you to learn one of the advanced techniques which is called *feature scaling*. The idea of feature scaling is to standardize/normalize the range of independent variables or features of the data. This can make the outliers more apparent so that you can remove them. This step needs to happen during Challenge 6 after you split the training and test data because you don't want to split the data again which makes it impossible to compare your results with and without feature scaling. For general concepts about feature scaling, click [here](https://en.wikipedia.org/wiki/Feature_scaling). To read deeper, click [here](https://medium.com/greyatom/why-how-and-when-to-scale-your-features-4b30ab09db5e).\n",
    "\n",
    "In the next cell, attempt to improve your model prediction accuracy by means of feature scaling. A library you can utilize is `sklearn.preprocessing.RobustScaler` ([documentation](https://scikit-learn.org/stable/modules/generated/sklearn.preprocessing.RobustScaler.html)). You'll use the `RobustScaler` to fit and transform your `X_train`, then transform `X_test`. You will use logistic regression to fit and predict your transformed data and obtain the accuracy score in the same way. Compare the accuracy score with your normalized data with the previous accuracy data. Is there an improvement?"
   ]
  },
  {
   "cell_type": "code",
   "execution_count": 47,
   "metadata": {},
   "outputs": [],
   "source": [
    "# Your code here"
   ]
  }
 ],
 "metadata": {
  "kernelspec": {
   "display_name": "Python 3 (ipykernel)",
   "language": "python",
   "name": "python3"
  },
  "language_info": {
   "codemirror_mode": {
    "name": "ipython",
    "version": 3
   },
   "file_extension": ".py",
   "mimetype": "text/x-python",
   "name": "python",
   "nbconvert_exporter": "python",
   "pygments_lexer": "ipython3",
   "version": "3.10.3"
  }
 },
 "nbformat": 4,
 "nbformat_minor": 2
}
